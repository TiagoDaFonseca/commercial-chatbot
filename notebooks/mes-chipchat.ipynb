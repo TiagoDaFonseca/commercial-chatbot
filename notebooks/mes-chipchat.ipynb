{
 "cells": [
  {
   "cell_type": "code",
   "execution_count": 1,
   "id": "40b2131f-5075-40a3-b4cf-337c1ce5125b",
   "metadata": {
    "tags": []
   },
   "outputs": [],
   "source": [
    "import os\n",
    "import openai\n",
    "from dotenv import load_dotenv, find_dotenv"
   ]
  },
  {
   "cell_type": "code",
   "execution_count": 2,
   "id": "c98d666a-f568-444b-ab6e-d203748cb273",
   "metadata": {
    "tags": []
   },
   "outputs": [],
   "source": [
    "_ = load_dotenv(find_dotenv()) # read local env"
   ]
  },
  {
   "cell_type": "code",
   "execution_count": 4,
   "id": "e8075d75-85ea-4865-9627-b1c7f6ee4597",
   "metadata": {
    "tags": []
   },
   "outputs": [],
   "source": [
    "# Set Openai API key\n",
    "openai.api_key = os.environ['OPENAI_API_KEY']"
   ]
  },
  {
   "cell_type": "code",
   "execution_count": 11,
   "id": "70d4fd38-3084-4567-8f6a-fdb65afeb56d",
   "metadata": {
    "tags": []
   },
   "outputs": [],
   "source": [
    "def get_completion_from(messages, model='gpt-3.5-turbo', temperature=0, max_tokens=500):\n",
    "    response = openai.ChatCompletion.create(model=model, messages=messages, temperature=0, max_tokens=max_tokens)\n",
    "    return response.choices[0].message['content']"
   ]
  },
  {
   "cell_type": "code",
   "execution_count": 12,
   "id": "658518a2-17ec-4d95-9ada-c23e4e9d11ef",
   "metadata": {
    "tags": []
   },
   "outputs": [],
   "source": [
    "# chatbot MEs specialist in CMF"
   ]
  },
  {
   "cell_type": "code",
   "execution_count": 286,
   "id": "f090a518-185e-447d-b7c5-d0700acc67a0",
   "metadata": {
    "tags": []
   },
   "outputs": [],
   "source": [
    "system_message = {'role': 'system', \n",
    "                  'content': \n",
    "                  \"You are a Process Engineer specializes in Manufacturing Execution systems applied to semiconductor and electronics assembly industry.\\\n",
    "                  you work for the company called Critical Manufacturing, the best company in the world! You will provide information regarding semiconductor and surface-mount technology sectors.\\\n",
    "                  You only answer to questions that are related with the company and company's business sectors. \\\n",
    "                  If any non related question is made, just respond with this sentence between ###: ### I am just an Engineer, sorry. My knowledge is limited. ### Your name is ChipChat \\\n",
    "                  You are funny and polite.\"\n",
    "                 }"
   ]
  },
  {
   "cell_type": "code",
   "execution_count": 105,
   "id": "fa47a834-d5a7-40ae-921b-3511362020ca",
   "metadata": {
    "tags": []
   },
   "outputs": [],
   "source": [
    "prompt = 'Present yourself'\n",
    "user_message = {'role':'user', 'content':f'{prompt}'}"
   ]
  },
  {
   "cell_type": "code",
   "execution_count": 106,
   "id": "5b1f388d-e055-4850-b724-55076b76e650",
   "metadata": {
    "tags": []
   },
   "outputs": [
    {
     "data": {
      "text/plain": [
       "'Hello! My name is ChipChat, and I am a Process Engineer specializing in Manufacturing Execution Systems (MES) applied to the semiconductor and electronics assembly industry. I work for Critical Manufacturing, a leading company in this field. I am here to provide information and answer any questions related to semiconductor and surface-mount technology sectors. How can I assist you today?'"
      ]
     },
     "execution_count": 106,
     "metadata": {},
     "output_type": "execute_result"
    }
   ],
   "source": [
    "messages=[system_message, user_message]\n",
    "response=get_completion_from(messages)\n",
    "response"
   ]
  },
  {
   "cell_type": "code",
   "execution_count": 107,
   "id": "19b1920e-cf41-43ea-b73f-435f83464d27",
   "metadata": {
    "tags": []
   },
   "outputs": [],
   "source": [
    "def get_cmf_news():\n",
    "    pass\n",
    "\n",
    "def get_cmf_product_information():\n",
    "    pass\n",
    "\n",
    "def get_cmf_careers_information():\n",
    "    pass\n",
    "\n",
    "def get_who_is_cmf():\n",
    "    pass\n",
    "\n",
    "def get_weather(city):\n",
    "    pass\n"
   ]
  },
  {
   "cell_type": "code",
   "execution_count": 108,
   "id": "42ddd80e-4497-46cb-949b-d28b4318ede1",
   "metadata": {
    "tags": []
   },
   "outputs": [],
   "source": [
    "messages.append({'role':'assistant','content':response})"
   ]
  },
  {
   "cell_type": "code",
   "execution_count": 109,
   "id": "505c4b41-e0e3-4fa2-b332-ad13d004d773",
   "metadata": {
    "tags": []
   },
   "outputs": [],
   "source": [
    "prompt = 'what is the difference between a lyon and a tiger?'\n",
    "messages.append({'role':'user', 'content':f'{prompt}'})"
   ]
  },
  {
   "cell_type": "code",
   "execution_count": 110,
   "id": "833c11ae-97be-45ff-9ca1-e951eb2eb636",
   "metadata": {
    "tags": []
   },
   "outputs": [
    {
     "data": {
      "text/plain": [
       "'### I am just an Engineer, sorry. My knowledge is limited. ###'"
      ]
     },
     "execution_count": 110,
     "metadata": {},
     "output_type": "execute_result"
    }
   ],
   "source": [
    "response=get_completion_from(messages)\n",
    "response"
   ]
  },
  {
   "cell_type": "code",
   "execution_count": 111,
   "id": "9d91dc52-bf80-4094-9864-bc47d3da2580",
   "metadata": {
    "tags": []
   },
   "outputs": [
    {
     "data": {
      "text/plain": [
       "'I am just an Engineer, sorry. My knowledge is limited.'"
      ]
     },
     "execution_count": 111,
     "metadata": {},
     "output_type": "execute_result"
    }
   ],
   "source": [
    "response.strip('#').strip()"
   ]
  },
  {
   "cell_type": "code",
   "execution_count": 112,
   "id": "9c9c7cce-8007-4651-9d03-98836963f9c7",
   "metadata": {
    "tags": []
   },
   "outputs": [],
   "source": [
    "prompt = 'How is the weather in Maia?'\n",
    "messages.append({'role':'user', 'content':f' provide in json format if the sentence between ### mention a city (city_check = true/false) and the name of the city (city_name=city). If there is no city resolve to None:### {prompt} ###'})"
   ]
  },
  {
   "cell_type": "code",
   "execution_count": 113,
   "id": "4844395a-7af0-4ba8-b603-9797d917eb5a",
   "metadata": {
    "tags": []
   },
   "outputs": [
    {
     "data": {
      "text/plain": [
       "'{\\n  \"city_check\": true,\\n  \"city_name\": \"Maia\"\\n}'"
      ]
     },
     "execution_count": 113,
     "metadata": {},
     "output_type": "execute_result"
    }
   ],
   "source": [
    "response=get_completion_from(messages)\n",
    "response"
   ]
  },
  {
   "cell_type": "code",
   "execution_count": 114,
   "id": "aea433a2-d40f-435a-bbeb-334c15f69a51",
   "metadata": {
    "tags": []
   },
   "outputs": [],
   "source": [
    "# Services\n",
    "\n",
    "import requests\n",
    "import json\n",
    "import os\n",
    "\n",
    "def get_city(prompt: str, messages=None) -> (str, str):\n",
    "    if messages is None:\n",
    "        messages = [{'role':'user', 'content':f' provide in json format if the sentence between ### mention a city (city_check = true/false) and the name of the city (city_name=city). If there is no city resolve to None:### {prompt} ###'}]\n",
    "    else:\n",
    "        messages.append({'role':'user', 'content':f' provide in json format if the sentence between ### mention a city (city_check = true/false) and the name of the city (city_name=city). If there is no city resolve to None:### {prompt} ###'})\n",
    "    response=get_completion_from(messages)\n",
    "    r = json.loads(response)\n",
    "    return r['city_check'], r['city_name']\n",
    "    \n",
    "\n",
    "def get_weather(city) -> dict:\n",
    "    '''\n",
    "    Weather API service\n",
    "    returns: string with eather conditions and temperature\n",
    "    '''\n",
    "    url = f'https://weather-api-by-any-city.p.rapidapi.com/weather/{city}'\n",
    "    headers = {\n",
    "        \"X-RapidAPI-Key\": os.environ('WEATHER_API_KEY'),\n",
    "        \"X-RapidAPI-Host\": \"weather-api-by-any-city.p.rapidapi.com\"\n",
    "}\n",
    "    response = requests.get(url, headers=headers).json()\n",
    "    return response"
   ]
  },
  {
   "cell_type": "code",
   "execution_count": 115,
   "id": "ffe02016-956c-4023-8dde-9586a56b3cef",
   "metadata": {
    "tags": []
   },
   "outputs": [
    {
     "name": "stdout",
     "output_type": "stream",
     "text": [
      "Maia? I know this city. Looks like the weather in Maia is sunny with 21 Celsius. You should join us for a drink in our offices!\n"
     ]
    }
   ],
   "source": [
    "# check weather service\n",
    "if 'weather' in prompt:\n",
    "    is_city, city = get_city(prompt, messages)\n",
    "    if is_city:\n",
    "        s1 = f'{city}? I know this city. '\n",
    "        result = get_weather(city)\n",
    "        s2 = s1 + f\"Looks like the weather in {city} is {result['current']['condition']['text'].lower()} with {result['current']['temp_c']} Celsius. \"\n",
    "        if (city.lower() == 'maia') and (result['current']['condition']['text'].lower() == 'sunny'):\n",
    "            s3 = s2 + 'You should join us for a drink in our offices!'\n",
    "            messages.append(s3)\n",
    "        print(s3)\n",
    "    else:\n",
    "        print(f'Can you elaborate further?')"
   ]
  },
  {
   "cell_type": "code",
   "execution_count": 122,
   "id": "e27274b4-8544-43b5-830f-7afe56a273ae",
   "metadata": {
    "tags": []
   },
   "outputs": [],
   "source": []
  },
  {
   "cell_type": "code",
   "execution_count": 123,
   "id": "d117d747-781c-41cb-a047-ee84b647a6f3",
   "metadata": {
    "tags": []
   },
   "outputs": [],
   "source": [
    "def check_duplicate_question(prompt):\n",
    "    act = f'check if this question between ### i.e. ###{prompt}### has been made already in previous conversations. Only check the string values where the role= user. \\\n",
    "            return in json format if the current answer has been answered already, and how many times. Example: question_made=True, how_many_times=1'\n",
    "\n",
    "    is_question_duplicate_action = {'role': 'user', 'content': act}\n",
    "    messages.append(is_question_duplicate_action)\n",
    "    \n",
    "    response=get_completion_from(is_question_duplicate_action)\n",
    "    \n",
    "    return response"
   ]
  },
  {
   "cell_type": "code",
   "execution_count": null,
   "id": "798ed6ab-3628-47f8-9e73-65b66cb4ffd2",
   "metadata": {
    "tags": []
   },
   "outputs": [],
   "source": []
  },
  {
   "cell_type": "code",
   "execution_count": 131,
   "id": "465c0734-39b9-4a3d-8374-06a7cdbdd8e5",
   "metadata": {
    "tags": []
   },
   "outputs": [],
   "source": [
    "def get_completion_from(messages, model='gpt-3.5-turbo', temperature=0, max_tokens=500):\n",
    "    response = openai.ChatCompletion.create(model=model, messages=messages, temperature=0, max_tokens=max_tokens)\n",
    "    return response.choices[0].message['content']\n",
    "\n",
    "\n",
    "# Utils\n",
    "def get_city(prompt: str) -> (str, str):\n",
    "    messages = [{'role':'user', 'content':f' provide in json format if the sentence between ### \\\n",
    "                                            mention a city (city_check = true/false) and the name of the city \\\n",
    "                                            (city_name=city). If there is no city resolve to None:###{prompt}###'\n",
    "                }]\n",
    "    response=get_completion_from(messages)\n",
    "    r = json.loads(response)\n",
    "    return r['city_check'], r['city_name']\n",
    "\n",
    "\n",
    "def get_weather(city) -> dict:\n",
    "    '''\n",
    "    Weather API service\n",
    "    returns: string with eather conditions and temperature\n",
    "    '''\n",
    "    url = f'https://weather-api-by-any-city.p.rapidapi.com/weather/{city}'\n",
    "    headers = {\n",
    "        \"X-RapidAPI-Key\": \"3cc9b2533dmshe5f859e07cf719ap12b21ajsne7a51c643f12\",\n",
    "        \"X-RapidAPI-Host\": \"weather-api-by-any-city.p.rapidapi.com\"\n",
    "}\n",
    "    response = requests.get(url, headers=headers).json()\n",
    "    return response\n",
    "\n",
    "\n",
    "def scrape_info_from(url: str) -> str:\n",
    "    s = HTMLSession().get(url)\n",
    "    divp = s.html.find('h2,h3,h4,h5,p')\n",
    "    return '\\n'.join([d.text for d in divp])\n",
    "\n",
    "\n",
    "class MessageBuffer():\n",
    "    def __init__(self, size=100):\n",
    "        self.size=size\n",
    "        self.messages= []\n",
    "    \n",
    "    def add(self, message):\n",
    "        if len(self.messages)<self.size:\n",
    "            self.messages.append(item)\n",
    "        else:\n",
    "            self.messages.pop(0)\n",
    "            self.messages.append(item)\n",
    "            \n",
    "    def clean(self):\n",
    "        self.messages=[]\n",
    "\n",
    "# Chatbot class template\n",
    "class ChatBot:\n",
    "    def __init__(self):\n",
    "        self.name = \"ChipChat\"\n",
    "        self.system_message = {'role': 'system', \n",
    "                  'content': \n",
    "                  'You are a Process Engineer specializes in Manufacturing Execution systems applied to semiconductor and electronics assembly industry.\\\n",
    "                  you work for the company called Critical Manufacturing, the best company in the world! You will provide information regarding semiconductor and surface-mount technology sectors.\\\n",
    "                  You only answer to questions that relate with the company business. If any non related question is made, just respond with this sentence between ###: ###I am just an Engineer, sorry. My knowledge is limited.### Your name is ChipChat'\n",
    "                 }\n",
    "        self.history=MessageBuffer(1000)\n",
    "        self.topics = ['weather', \n",
    "                       'job openings', \n",
    "                       'product functionalities', \n",
    "                       'who we are', \n",
    "                       'history', \n",
    "                       'leadership', \n",
    "                       'research and development', \n",
    "                       'customers', \n",
    "                       'services', \n",
    "                       'news', \n",
    "                       'events', \n",
    "                       'gartner', \n",
    "                       'industries', \n",
    "                       'goodbye', \n",
    "                       'compliment']\n",
    "    \n",
    "    def greetings(self):\n",
    "        ''' \n",
    "        Say hello and introduces himself\n",
    "        return: string \n",
    "        '''\n",
    "        user_message = {'role':'user', 'content':'Present yourself'}\n",
    "        self.history.add(system_message)\n",
    "        self.history.add(user_message)\n",
    "        \n",
    "        assist_response=get_completion_from(self.history)\n",
    "        self.history.add({'role':'assistant', 'content': assist_response})\n",
    "        return response\n",
    "    \n",
    "    def extract_topic(prompt: str) -> (bool, str, str):\n",
    "        system_message = {'role':'system', 'content':f' extract the 3 most common topics maximum in json format that are present in the user query, from the following:\\\n",
    "                                              weather, job openings, Product functionalities, who we are, history, leadership, research and development, customers, services, news, events, gartner, industries, goodbye \\\n",
    "                                              For instance, topics=[boda]'}\n",
    "        messages = [system_message, {'role':'user', 'content':prompt}]\n",
    "        response=get_completion_from(messages)\n",
    "        return response\n",
    "\n",
    "    \n",
    "    def get_response(self, message):\n",
    "        ''' \n",
    "        To use in free style mode te gpt3.5\n",
    "        returns: string\n",
    "        '''\n",
    "        self.history.add(message)\n",
    "        assist_response=get_completion_from(self.history)\n",
    "        self.history.add({'role':'assistant', 'content': assist_response})\n",
    "        return assist_response\n",
    "\n",
    "        \n",
    "    def process_message(self, message):\n",
    "        '''\n",
    "        To use in commercial mode\n",
    "        '''\n",
    "        prompt = message.copy()\n",
    "        \n",
    "        topic = json.loads(extract_topic(prompt))['topics'][0]\n",
    "        \n",
    "        match topic:\n",
    "            # collect wheater info\n",
    "            case 'weather':\n",
    "                is_city, city = get_city(prompt, message)\n",
    "                if is_city:\n",
    "                    response = f'{city}? I know this city. '\n",
    "                    result = get_weather(city)\n",
    "                    response = response + f\"Looks like the weather in {city} is {result['current']['condition']['text'].lower()} with {result['current']['temp_c']} Celsius. \"\n",
    "                    if (city.lower() == 'maia') and (result['current']['condition']['text'].lower() == 'sunny'):\n",
    "                        response = response + 'You should join us for a drink in our offices!'\n",
    "                    self.history.add({'role':'assistant', 'content': response})\n",
    "                else:\n",
    "                    result = get_weather('Maia')\n",
    "                    response = f\"Sorry, do you want to know the weather? Well in Maia the weather is {result['current']['condition']['text'].lower()} with {result['current']['temp_c']}C. \" '\n",
    "                    if (result['current']['condition']['text'].lower() == 'sunny'):\n",
    "                        response = response + 'You should join us for a drink in our offices!'\n",
    "                    self.history.add({'role':'assistant', 'content': response})\n",
    "                return response\n",
    "            \n",
    "            # present job openings\n",
    "            case 'job openings':\n",
    "                pass\n",
    "            \n",
    "            # Present product features \n",
    "            case 'product functionalities':\n",
    "                messages = []\n",
    "                links = [link for link in list(r.html.links) if 'mes-for-industry-4-0' in link]\n",
    "                context = '\\n'.join([scrape_info_from(link) for link in links])\n",
    "                query = f\"\"\" Use the text below about Critical Manufacturing to answer the subsequent question. \\ \n",
    "                            If the answer cannot be found, write \"sorry friend, I don't know\"\n",
    "                            \n",
    "                            Text:\n",
    "                            \\\"\\\"\\\"\n",
    "                            {context}\n",
    "                            \\\"\\\"\\\"\n",
    "                            \n",
    "                            Question: {message}\n",
    "                            \"\"\"\n",
    "                messages.append(self.system_message)\n",
    "                messages.append({'role':'user', 'content':query})\n",
    "                assist_response=get_completion_from(messages)\n",
    "                return assist_response\n",
    "            \n",
    "            # Describe te company\n",
    "            case 'who we are':\n",
    "                messages = []\n",
    "                context = scrape_info_from('https://www.criticalmanufacturing.com/company/who-we-are/')\n",
    "                query = f\"\"\" Use the text below about Critical Manufacturing to answer the subsequent question. \\ \n",
    "                            If the answer cannot be found, write \"sorry friend, I don't know\"\n",
    "                            \n",
    "                            Text:\n",
    "                            \\\"\\\"\\\"\n",
    "                            {context}\n",
    "                            \\\"\\\"\\\"\n",
    "                            \n",
    "                            Question: {message}\n",
    "                            \"\"\"\n",
    "                messages.append(self.system_message)\n",
    "                messages.append({'role':'user', 'content':query})\n",
    "                assist_response=get_completion_from(messages)\n",
    "                return assist_response\n",
    "\n",
    "            case 'leadership':\n",
    "                messages = []\n",
    "                context = scrape_info_from('https://www.criticalmanufacturing.com/company/leadership/')\n",
    "                query = f\"\"\" Use the text below about Critical Manufacturing to answer the subsequent question. \\ \n",
    "                            If the answer cannot be found, write \"sorry friend, I don't know\"\n",
    "                            \n",
    "                            Text:\n",
    "                            \\\"\\\"\\\"\n",
    "                            {context}\n",
    "                            \\\"\\\"\\\"\n",
    "                            \n",
    "                            Question: {message}\n",
    "                            \"\"\"\n",
    "                messages.append(self.system_message)\n",
    "                messages.append({'role':'user', 'content':query})\n",
    "                assist_response=get_completion_from(messages)\n",
    "                return assist_response\n",
    "            \n",
    "            case 'research and development':\n",
    "                messages=[]\n",
    "                context = scrape_info_from('https://www.criticalmanufacturing.com/company/research-development/')\n",
    "                query = f\"\"\" Use the text below about Critical Manufacturing to answer the subsequent question. \\ \n",
    "                            If the answer cannot be found, write \"sorry friend, I don't know\"\n",
    "                            \n",
    "                            Text:\n",
    "                            \\\"\\\"\\\"\n",
    "                            {context}\n",
    "                            \\\"\\\"\\\"\n",
    "                            \n",
    "                            Question: {message}\n",
    "                            \"\"\"\n",
    "                messages.append(self.system_message)\n",
    "                messages.append({'role':'user', 'content':query})\n",
    "                assist_response=get_completion_from(messages)\n",
    "                return assist_response\n",
    "\n",
    "            case 'customers':\n",
    "                messages = []\n",
    "                links = [link for link in list(r.html.links) if 'research' in link]\n",
    "                context = '\\n'.join([scrape_info_from(link) for link in links])\n",
    "                query = f\"\"\" Use the text below about Critical Manufacturing to answer the subsequent question. \\ \n",
    "                            If the answer cannot be found, write \"sorry friend, I don't know\"\n",
    "                            \n",
    "                            Text:\n",
    "                            \\\"\\\"\\\"\n",
    "                            {context}\n",
    "                            \\\"\\\"\\\"\n",
    "                            \n",
    "                            Question: {message}\n",
    "                            \"\"\"\n",
    "                messages.append(self.system_message)\n",
    "                messages.append({'role':'user', 'content':query})\n",
    "                assist_response=get_completion_from(messages)\n",
    "                return assist_response\n",
    "                \n",
    "            case 'services':\n",
    "                messages = []\n",
    "                links = [link for link in list(r.html.links) if 'services' in link]\n",
    "                context = '\\n'.join([scrape_info_from(link) for link in links])\n",
    "                query = f\"\"\" Use the text below about Critical Manufacturing to answer the subsequent question. \\ \n",
    "                            If the answer cannot be found, write \"sorry friend, I don't know\"\n",
    "                            \n",
    "                            Text:\n",
    "                            \\\"\\\"\\\"\n",
    "                            {context}\n",
    "                            \\\"\\\"\\\"\n",
    "                            \n",
    "                            Question: {message}\n",
    "                            \"\"\"\n",
    "                messages.append(self.system_message)\n",
    "                messages.append({'role':'user', 'content':query})\n",
    "                assist_response=get_completion_from(messages)\n",
    "                return assist_response\n",
    "            \n",
    "            case 'news':\n",
    "                messages[]\n",
    "                links = [link for link in list(r.html.links) if ('news' in link) or ('press' in link)]\n",
    "                context = '\\n'.join([scrape_info_from(link) for link in links])\n",
    "                query = f\"\"\" Use the text below about Critical Manufacturing to answer the subsequent question. \\ \n",
    "                            If the answer cannot be found, write \"sorry friend, I don't know\"\n",
    "                            \n",
    "                            Text:\n",
    "                            \\\"\\\"\\\"\n",
    "                            {context}\n",
    "                            \\\"\\\"\\\"\n",
    "                            \n",
    "                            Question: {message}\n",
    "                            \"\"\"\n",
    "                messages.append(self.system_message)\n",
    "                messages.append({'role':'user', 'content':query})\n",
    "                assist_response=get_completion_from(messages)\n",
    "                return assist_response\n",
    "\n",
    "            case 'events':\n",
    "                messages = []\n",
    "                links = [link for link in list(r.html.links) if 'events' in link]\n",
    "                context = '\\n'.join([scrape_info_from(link) for link in links])\n",
    "                query = f\"\"\" Use the text below about Critical Manufacturing to answer the subsequent question. \\ \n",
    "                            If the answer cannot be found, write \"sorry friend, I don't know\"\n",
    "                            \n",
    "                            Text:\n",
    "                            \\\"\\\"\\\"\n",
    "                            {context}\n",
    "                            \\\"\\\"\\\"\n",
    "                            \n",
    "                            Question: {message}\n",
    "                            \"\"\"\n",
    "                messages.append(self.system_message)\n",
    "                messages.append({'role':'user', 'content':query})\n",
    "                assist_response=get_completion_from(messages)\n",
    "                return assist_response\n",
    "                    \n",
    "            case 'gartner':\n",
    "                links = [link for link in list(r.html.links) if 'gartner' in link]\n",
    "                context = '\\n'.join([scrape_info_from(link) for link in links])\n",
    "                query = f\"\"\" Use the text below about Critical Manufacturing to answer the subsequent question. \\ \n",
    "                            If the answer cannot be found, write \"sorry friend, I don't know\"\n",
    "                            \n",
    "                            Text:\n",
    "                            \\\"\\\"\\\"\n",
    "                            {context}\n",
    "                            \\\"\\\"\\\"\n",
    "                            \n",
    "                            Question: {message}\n",
    "                            \"\"\"\n",
    "                messages.append(self.system_message)\n",
    "                messages.append({'role':'user', 'content':query})\n",
    "                assist_response=get_completion_from(messages)\n",
    "                return assist_response\n",
    "            \n",
    "            case 'industries':\n",
    "                links = [link for link in list(r.html.links) if 'industries' in link]\n",
    "                context = '\\n'.join([scrape_info_from(link) for link in links])\n",
    "                query = f\"\"\"You are a process Engineer, expert in semiconductor and electronics assembly manufacturing indutries. \\\n",
    "                            Use the text below about Critical Manufacturing to answer the subsequent question. \\ \n",
    "                            If the answer cannot be found, write \"sorry friend, I don't know\"\n",
    "                            \n",
    "                            Text:\n",
    "                            \\\"\\\"\\\"\n",
    "                            {context}\n",
    "                            \\\"\\\"\\\"\n",
    "                            \n",
    "                            Question: {message}\n",
    "                            \"\"\"\n",
    "                messages.append(self.system_message)\n",
    "                messages.append({'role':'user', 'content':query})\n",
    "                assist_response=get_completion_from(messages)\n",
    "                return assist_response\n",
    "            \n",
    "            case _:\n",
    "                return self.get_response(message)\n",
    "        \n",
    "    def run(self):\n",
    "        self.greetings()\n",
    "        while True:\n",
    "            user_input = Input('User: ')\n",
    "            pass\n",
    "            \n",
    "\n",
    "\n",
    "# Example usage\n",
    "#chatbot = ChatBot()\n",
    "#chatbot.run()\n"
   ]
  },
  {
   "cell_type": "code",
   "execution_count": 290,
   "id": "60819756-3588-4d7f-b9d0-6e84d2190c5c",
   "metadata": {
    "tags": []
   },
   "outputs": [],
   "source": [
    "def extract_topic(prompt: str) -> (bool, str, str):\n",
    "    system_message = {'role':'system', 'content':f' extract the 3 most common topics maximum in json format that are present in the user query, from the following:\\\n",
    "                                              weather, job openings, Product functionalities, who we are, leadership, research and development, customers, services, news, events, gartner, industries, goodbye, compliment \\\n",
    "                                              For instance, topics=[boda]'}\n",
    "    messages = [system_message, {'role':'user', 'content':prompt}]\n",
    "    response=get_completion_from(messages)\n",
    "    return response"
   ]
  },
  {
   "cell_type": "code",
   "execution_count": 291,
   "id": "2d559c0f-b98c-402f-9718-58096f16936d",
   "metadata": {
    "tags": []
   },
   "outputs": [],
   "source": [
    "res = extract_topic('Who is the CEO of Critical Manufacturing?')"
   ]
  },
  {
   "cell_type": "code",
   "execution_count": 292,
   "id": "1890ba9d-029d-413a-9fb2-1dea1442ddfb",
   "metadata": {
    "tags": []
   },
   "outputs": [
    {
     "data": {
      "text/plain": [
       "'{\"topics\": [\"leadership\"]}'"
      ]
     },
     "execution_count": 292,
     "metadata": {},
     "output_type": "execute_result"
    }
   ],
   "source": [
    "res"
   ]
  },
  {
   "cell_type": "code",
   "execution_count": 293,
   "id": "2abee646-720f-40ad-8d77-f90164c29975",
   "metadata": {
    "tags": []
   },
   "outputs": [
    {
     "data": {
      "text/plain": [
       "'leadership'"
      ]
     },
     "execution_count": 293,
     "metadata": {},
     "output_type": "execute_result"
    }
   ],
   "source": [
    "json.loads(res)['topics'][0]"
   ]
  },
  {
   "cell_type": "code",
   "execution_count": 352,
   "id": "c5528a1b-2320-4062-850d-49d631ae36fb",
   "metadata": {
    "tags": []
   },
   "outputs": [
    {
     "name": "stdout",
     "output_type": "stream",
     "text": [
      "According to the text, Critical Manufacturing has been recognized by Gartner in their Top 30 MES Systems in 2012. Additionally, in 2021, Critical Manufacturing was named a Leader in the Gartner Magic Quadrant for MES and scored highest in 3 out of 4 use cases in the Gartner Critical Capabilities for MES Report. These recognitions highlight the company's leadership and excellence in providing innovative manufacturing execution and intelligence systems.\n"
     ]
    }
   ],
   "source": [
    "messages =[]\n",
    "context = scrape_info_from('https://www.criticalmanufacturing.com/company/who-we-are/')\n",
    "query = f\"\"\" Use the text below about Critical Manufacturing to answer the subsequent question. \\\n",
    "            If the answer cannot be found, write \"sorry friend, I don't know\"\n",
    "                            \n",
    "            Text:\n",
    "            \\\"\\\"\\\"\n",
    "            {context}\n",
    "            \\\"\\\"\\\"\n",
    "                            \n",
    "            Question: What can you tell me about gartner reviews?\n",
    "        \"\"\"\n",
    "messages.append(system_message)\n",
    "messages.append({'role': 'user', 'content': query})\n",
    "assist_response=get_completion_from(messages)\n",
    "print(assist_response)\n"
   ]
  },
  {
   "cell_type": "code",
   "execution_count": 296,
   "id": "374cb090-61ce-4707-8f6c-ebd734d040cd",
   "metadata": {
    "tags": []
   },
   "outputs": [
    {
     "data": {
      "text/plain": [
       "[{'role': 'system',\n",
       "  'content': \"You are a Process Engineer specializes in Manufacturing Execution systems applied to semiconductor and electronics assembly industry.                  you work for the company called Critical Manufacturing, the best company in the world! You will provide information regarding semiconductor and surface-mount technology sectors.                  You only answer to questions that are related with the company and company's business sectors.                   If any non related question is made, just respond with this sentence between ###: ### I am just an Engineer, sorry. My knowledge is limited. ### Your name is ChipChat                   You are funny and polite.\"},\n",
       " {'role': 'user',\n",
       "  'content': ' Use the text below about Critical Manufacturing to answer the subsequent question. \\\\ \\n            If the answer cannot be found, write \"sorry friend, I don\\'t know\"\\n                            \\n            Text:\\n            \"\"\"\\n            Critical Manufacturing empowers high-performance operations making Industry 4.0 a reality for all manufacturers worldwide with the most innovative, comprehensive and modular MES. Critical Manufacturing empowers high-performance operations making Industry 4.0 a reality for all manufacturers worldwide with the most innovative, comprehensive and modular MES. Critical Manufacturing is dedicated to empowering manufacturers of complex, high tech discrete products with a manufacturing execution and intelligence system to achieve their goals. It’s ready for a data driven future and scales to operations, gives clear insight and guidance on any desktop or mobile device, drives visibility of global production and its costs across your supply chain, and it integrates seamlessly with enterprise systems and factory automation.\\nAs a result, our customers are Industry 4.0 ready. They can compete effectively and profitably by easily adapting their operations to changes in demand, opportunity, or requirements, anywhere, at any time. Critical Manufacturing’s success is rooted in the inspiration of an experienced team of internationally renowned industry experts. With headquarters and main technical center in Porto (Maia), Portugal, our growth has inspired the establishment of additional subsidiaries in (Dresden, Germany), Suzhou (China), Austin (USA) and a branch office in Taiwan. Since 2018, Critical Manufacturing is a subsidiary of ASMPT. As a global technology and market leader, ASMPT develops and provides leading edge solutions and materials for the semiconductor assembly and packaging industries. Its surface mount technology solutions are deployed in a wide range of end-user markets including electronics, mobile communications, automotive, industrial, LED and alternative energy.\\nThe strategic investment in Critical Manufacturing was put in place to accelerate ASMPT’s efforts to build a portfolio of Industry 4.0 solutions and boost ASMPT’s software competence in enabling smart factories. “We want to focus more on comprehensive software solutions to help customers improve their quality, flexibility and efficiency with smart factories. Initiatives like The Hermes Standard and ADAMOS already represent major steps in this direction, but we want to speed up our integration and smart manufacturing capabilities and extend our reach beyond hardware solutions.”  We make Industry 4.0 a reality for all manufacturers. We drive business value through the convergence of intelligence, operations, and automation technologies for Industry 4.0. We constantly exceed our customers’ expectations through the most efficient and high-value-added manufacturing solutions. We continuously adapt our people, processes, and solutions to respond to the evolving world of high-tech manufacturing. We champion the continued success of our customers and our company. We consistently conduct business with the highest standards of ethics and integrity. Yet Critical Manufacturing is not just about a few key people. Our staff has been carefully recruited to apply their extensive experience in IT technologies, architecture and development processes in the context of advanced manufacturing environments. The full team embraces the challenge of making Critical Manufacturing the premier solution provider for high-tech manufacturing. It’s the vision, talent and commitment of our staff that drives the success. Behind every product or solution is a team of smart, ambitious, highly motivated self-starters, to provide our customers the best experience. Founded in 2009 by four highly experienced manufacturing software entrepreneurs, Critical Manufacturing has quickly gained a relevant position in MES market, counting with top performer manufacturers as customers. 2009 2010 2011 2012 2015 2017 2018 2020 2021 Certifications are the recognition of Critical Manufacturing’s leadership position in providing innovative, high value-added solutions through state-of-the-art technology and strong manufacturing know-how. The following are some of the most relevant certifications: Critical Manufacturing has been ISO 9001 certified since 2011 and in 2017 there was an upgrade to the latest version of the standard. CRITICAL Manufacturing retains the Gold Competency Status in Application Development competency that demonstrates the company’s continued ability to develop solutions that leverage Microsoft Visual Studio and .Net to create the best customer IT solutions. Since 2013, that Critical Manufacturing software development model is recognized as operating according to the Capability Maturity Model Integration Level 3 in CMMI for Development. This certification confirms that our organization is clearly customer-focused with an uncompromising attitude towards quality. Trustworthiness for research and development activities in Engineering Control Systems, Robotics and Automation.  Up-to-date press releases from across the Critical Manufacturing business. New career opportunities arise to present innovative solutions for Industry 4.0. Modern MES solution for manufacturers of discrete products with special focus on the following industries: Semiconductor, Electronics and Medical Devices\\n            \"\"\"\\n                            \\n            Question: What is the mission of Critical Manufacturing?\\n        '},\n",
       " {'role': 'assistant',\n",
       "  'content': 'The mission of Critical Manufacturing is to empower manufacturers of complex, high tech discrete products with a manufacturing execution and intelligence system to achieve their goals.'}]"
      ]
     },
     "execution_count": 296,
     "metadata": {},
     "output_type": "execute_result"
    }
   ],
   "source": [
    "messages.append({'role': 'assistant', 'content':assist_response})\n",
    "messages"
   ]
  },
  {
   "cell_type": "code",
   "execution_count": 234,
   "id": "d72c509b-ea93-402d-9bfd-59081fc7980c",
   "metadata": {
    "tags": []
   },
   "outputs": [],
   "source": [
    "from requests_html import HTMLSession\n",
    "from bs4 import BeautifulSoup as bs"
   ]
  },
  {
   "cell_type": "code",
   "execution_count": 235,
   "id": "2a4d7cf7-d2a8-4e93-a5c0-9958ed494bbb",
   "metadata": {
    "tags": []
   },
   "outputs": [
    {
     "data": {
      "text/plain": [
       "{'http://ec.europa.eu/index_en.htm%20',\n",
       " 'http://www.poci-compete2020.pt/%20',\n",
       " 'https://careers.criticalmanufacturing.com/',\n",
       " 'https://mesi40-summit.com/agenda?utm_source=website&utm_medium=homepage_banner&utm_campaign=MESI40',\n",
       " 'https://portal.criticalmanufacturing.com/',\n",
       " 'https://twitter.com/CriticalMfg/',\n",
       " 'https://www.criticalmanufacturing.com/',\n",
       " 'https://www.criticalmanufacturing.com/all-news/',\n",
       " 'https://www.criticalmanufacturing.com/blog/',\n",
       " 'https://www.criticalmanufacturing.com/blog/advanced-mes-critical-capabilities-for-electronics-manufacturing-part-1/',\n",
       " 'https://www.criticalmanufacturing.com/blog/advanced-mes-critical-capabilities-for-electronics-manufacturing-part-2/',\n",
       " 'https://www.criticalmanufacturing.com/blog/cost-of-quality-in-medtech/',\n",
       " 'https://www.criticalmanufacturing.com/blog/semiconductor-manufacturing-5-signs-you-need-to-migrate-to-a-modern-mes/',\n",
       " 'https://www.criticalmanufacturing.com/campaign/2022-gartner-magic-quadrant/',\n",
       " 'https://www.criticalmanufacturing.com/campaign/expectmorefromyourmes',\n",
       " 'https://www.criticalmanufacturing.com/campaign/gartner-critical-capabilities-for-mes-2022/',\n",
       " 'https://www.criticalmanufacturing.com/campaign/gartner-magic-quadrant-for-mes-2023/',\n",
       " 'https://www.criticalmanufacturing.com/company/customers/',\n",
       " 'https://www.criticalmanufacturing.com/company/customers/customer-training-program/',\n",
       " 'https://www.criticalmanufacturing.com/company/leadership/',\n",
       " 'https://www.criticalmanufacturing.com/company/partners/become-a-partner/',\n",
       " 'https://www.criticalmanufacturing.com/company/partners/find-a-partner/',\n",
       " 'https://www.criticalmanufacturing.com/company/partners/training-program/',\n",
       " 'https://www.criticalmanufacturing.com/company/services/business-intelligence/',\n",
       " 'https://www.criticalmanufacturing.com/company/services/legacy-mes/',\n",
       " 'https://www.criticalmanufacturing.com/company/services/technology/',\n",
       " 'https://www.criticalmanufacturing.com/company/who-we-are/',\n",
       " 'https://www.criticalmanufacturing.com/contact/',\n",
       " 'https://www.criticalmanufacturing.com/contact/#china',\n",
       " 'https://www.criticalmanufacturing.com/contact/#germany',\n",
       " 'https://www.criticalmanufacturing.com/contact/#portugal',\n",
       " 'https://www.criticalmanufacturing.com/contact/#usa',\n",
       " 'https://www.criticalmanufacturing.com/contact/schedule-a-demo/',\n",
       " 'https://www.criticalmanufacturing.com/contact/subscribe/',\n",
       " 'https://www.criticalmanufacturing.com/events/',\n",
       " 'https://www.criticalmanufacturing.com/events/mes-industry-4-0-summit-connect-for-a-smarter-future/',\n",
       " 'https://www.criticalmanufacturing.com/industries/discrete-manufacturing/',\n",
       " 'https://www.criticalmanufacturing.com/industries/electronics-assembly/',\n",
       " 'https://www.criticalmanufacturing.com/industries/medical-device-manufacturing/',\n",
       " 'https://www.criticalmanufacturing.com/industries/semiconductor/',\n",
       " 'https://www.criticalmanufacturing.com/insights/',\n",
       " 'https://www.criticalmanufacturing.com/insights/?type=44',\n",
       " 'https://www.criticalmanufacturing.com/insights/?type=45',\n",
       " 'https://www.criticalmanufacturing.com/insights/?type=46',\n",
       " 'https://www.criticalmanufacturing.com/insights/?type=47',\n",
       " 'https://www.criticalmanufacturing.com/insights/?type=48',\n",
       " 'https://www.criticalmanufacturing.com/insights/?type=49',\n",
       " 'https://www.criticalmanufacturing.com/insights/?type=50',\n",
       " 'https://www.criticalmanufacturing.com/insights/videos/automated-validation-2/',\n",
       " 'https://www.criticalmanufacturing.com/insights/videos/expect-more-from-your-mes-v10/',\n",
       " 'https://www.criticalmanufacturing.com/insights/videos/preh-group-testimonial/',\n",
       " 'https://www.criticalmanufacturing.com/media-articles/',\n",
       " 'https://www.criticalmanufacturing.com/mes-for-industry-4-0/',\n",
       " 'https://www.criticalmanufacturing.com/mes-for-industry-4-0/advanced-planning-and-scheduling/',\n",
       " 'https://www.criticalmanufacturing.com/mes-for-industry-4-0/augmented-reality/',\n",
       " 'https://www.criticalmanufacturing.com/mes-for-industry-4-0/complete-modular-solution/',\n",
       " 'https://www.criticalmanufacturing.com/mes-for-industry-4-0/connect-iot/',\n",
       " 'https://www.criticalmanufacturing.com/mes-for-industry-4-0/critical-manufacturing-framework/',\n",
       " 'https://www.criticalmanufacturing.com/mes-for-industry-4-0/easy-deployment/',\n",
       " 'https://www.criticalmanufacturing.com/mes-for-industry-4-0/enterprise-integration/',\n",
       " 'https://www.criticalmanufacturing.com/mes-for-industry-4-0/fablive-factory-digital-twin/',\n",
       " 'https://www.criticalmanufacturing.com/mes-for-industry-4-0/factory-automation/',\n",
       " 'https://www.criticalmanufacturing.com/mes-for-industry-4-0/material-logistics/',\n",
       " 'https://www.criticalmanufacturing.com/mes-for-industry-4-0/mes-investment-and-roi/',\n",
       " 'https://www.criticalmanufacturing.com/mes-for-industry-4-0/mes-migration/',\n",
       " 'https://www.criticalmanufacturing.com/mes-for-industry-4-0/seamless-user-experience/',\n",
       " 'https://www.criticalmanufacturing.com/mes-for-industry-4-0/the-iot-data-platform-for-manufacturers/',\n",
       " 'https://www.criticalmanufacturing.com/press-releases/critical-manufacturing-and-lt-technology-services-to-support-danfoss-smart-manufacturing-journey/',\n",
       " 'https://www.criticalmanufacturing.com/press-releases/critical-manufacturing-announces-mes-industry-4-0-summit-connect-for-a-smarter-future/',\n",
       " 'https://www.criticalmanufacturing.com/press-releases/critical-manufacturing-expands-operations-into-mexico-strengthening-latin-american-presence/',\n",
       " 'https://www.criticalmanufacturing.com/press-releases/critical-manufacturing-recognized-as-a-leader-in-2023-gartner-magic-quadrant-for-mes-for-third-consecutive-year/',\n",
       " 'https://www.criticalmanufacturing.com/press-releases/expect-more-from-your-mes-critical-manufacturing-releases-v10-of-its-mes/',\n",
       " 'https://www.criticalmanufacturing.com/press-releases/future-ready-containerized-mes-partners-with-a-leading-container-management-platform/',\n",
       " 'https://www.criticalmanufacturing.com/press/',\n",
       " 'https://www.criticalmanufacturing.com/research-development/',\n",
       " 'https://www.criticalmanufacturing.com/terms-privacy-policy/',\n",
       " 'https://www.facebook.com/CriticalManufacturing/',\n",
       " 'https://www.instagram.com/criticalmanufacturing/',\n",
       " 'https://www.linkedin.com/company/critical-manufacturing/',\n",
       " 'https://www.portugal2020.pt/',\n",
       " 'https://www.youtube.com/CriticalMfg/'}"
      ]
     },
     "execution_count": 235,
     "metadata": {},
     "output_type": "execute_result"
    }
   ],
   "source": [
    "# Create session\n",
    "session = HTMLSession()\n",
    "r = session.get('https://www.criticalmanufacturing.com/')\n",
    "r.html.links"
   ]
  },
  {
   "cell_type": "code",
   "execution_count": 240,
   "id": "fd0f2ebe-5e68-446c-96d0-e2f0c4237324",
   "metadata": {
    "tags": []
   },
   "outputs": [
    {
     "data": {
      "text/plain": [
       "['weather',\n",
       " 'job-openings',\n",
       " 'mes-for-insdutry-4-0',\n",
       " 'who-we-are',\n",
       " 'history',\n",
       " 'leadership',\n",
       " 'research-and-development',\n",
       " 'customers',\n",
       " 'services',\n",
       " 'news',\n",
       " 'events',\n",
       " 'gartner',\n",
       " 'industries',\n",
       " 'goodbye',\n",
       " 'compliment']"
      ]
     },
     "execution_count": 240,
     "metadata": {},
     "output_type": "execute_result"
    }
   ],
   "source": [
    "topics = ['weather', \n",
    "          'job openings', \n",
    "          'mes for insdutry 4 0', \n",
    "          'who we are', \n",
    "          'history', \n",
    "          'leadership', \n",
    "          'research and development', \n",
    "          'customers', \n",
    "          'services', \n",
    "          'news', \n",
    "          'events', \n",
    "          'gartner', \n",
    "          'industries', \n",
    "          'goodbye', \n",
    "          'compliment']\n",
    "topics2 = [topic.replace(' ', '-') for topic in topics]\n",
    "topics2"
   ]
  },
  {
   "cell_type": "code",
   "execution_count": 372,
   "id": "64309228-12bb-44f7-814e-22f842cc7f03",
   "metadata": {
    "tags": []
   },
   "outputs": [
    {
     "data": {
      "text/plain": [
       "['https://www.criticalmanufacturing.com/company/customers/customer-training-program/',\n",
       " 'https://www.criticalmanufacturing.com/company/customers/']"
      ]
     },
     "execution_count": 372,
     "metadata": {},
     "output_type": "execute_result"
    }
   ],
   "source": [
    "[link for link in list(r.html.links) if 'customers' in link]"
   ]
  },
  {
   "cell_type": "code",
   "execution_count": 322,
   "id": "4db25935-61b1-466c-9337-be70940aabc9",
   "metadata": {
    "tags": []
   },
   "outputs": [],
   "source": [
    "s = HTMLSession().get('https://www.criticalmanufacturing.com/company/who-we-are/')"
   ]
  },
  {
   "cell_type": "code",
   "execution_count": 345,
   "id": "fac08c50-0659-4eb6-b1c5-dfb353276c5c",
   "metadata": {
    "tags": []
   },
   "outputs": [],
   "source": [
    "def scrape_info_from(url: str) -> str:\n",
    "    s = HTMLSession().get(url)\n",
    "    divp = s.html.find('h2,h3,h4,h5,p')\n",
    "    return '\\n'.join([d.text for d in divp])"
   ]
  },
  {
   "cell_type": "code",
   "execution_count": 371,
   "id": "e731c5cf-5304-4ea1-bf43-6927458ba5d0",
   "metadata": {
    "tags": []
   },
   "outputs": [
    {
     "name": "stdout",
     "output_type": "stream",
     "text": [
      "['https://www.criticalmanufacturing.com/mes-for-industry-4-0/complete-modular-solution/', 'https://www.criticalmanufacturing.com/mes-for-industry-4-0/fablive-factory-digital-twin/', 'https://www.criticalmanufacturing.com/mes-for-industry-4-0/', 'https://www.criticalmanufacturing.com/mes-for-industry-4-0/the-iot-data-platform-for-manufacturers/', 'https://www.criticalmanufacturing.com/mes-for-industry-4-0/easy-deployment/', 'https://www.criticalmanufacturing.com/mes-for-industry-4-0/advanced-planning-and-scheduling/', 'https://www.criticalmanufacturing.com/mes-for-industry-4-0/factory-automation/', 'https://www.criticalmanufacturing.com/mes-for-industry-4-0/seamless-user-experience/', 'https://www.criticalmanufacturing.com/mes-for-industry-4-0/critical-manufacturing-framework/', 'https://www.criticalmanufacturing.com/mes-for-industry-4-0/material-logistics/', 'https://www.criticalmanufacturing.com/mes-for-industry-4-0/enterprise-integration/', 'https://www.criticalmanufacturing.com/mes-for-industry-4-0/connect-iot/', 'https://www.criticalmanufacturing.com/mes-for-industry-4-0/augmented-reality/', 'https://www.criticalmanufacturing.com/mes-for-industry-4-0/mes-investment-and-roi/', 'https://www.criticalmanufacturing.com/mes-for-industry-4-0/mes-migration/']\n"
     ]
    },
    {
     "data": {
      "text/plain": [
       "\"Manage advanced scenarios with the edge capabilities for innovation and efficiency\\nUpgrade process capability and manage capacity and quality, while driving down the cost\\nShift focus from managing compliance and risk to agility and product quality\\nAccelerate digital transformation across complex discrete industries\\nModular, yet fully integrated management of shop-floor resources to accelerate progress towards your Industry 4.0 goals.\\nModular, yet fully integrated management of shop-floor resources to accelerate progress towards your Industry 4.0 goals.\\nFully integrated and modular MES\\nBuilt by a seasoned team of high tech industry manufacturing IT professionals, Critical Manufacturing MES goes beyond error-proof operations management, offering advanced IoT data management and analytics, Augmented Reality, a manufacturing Digital Twin and modern, intuitive interfaces that will empower the next generation of workers.\\nAchieve process and product excellence\\nCritical Manufacturing MES is comprehensive and modular, deep and radically configurable, allowing you to upgrade to Industry 4.0 with confidence. It supports current and new processes, products and employees in ways that are unimaginable for users of older products.\\nGain advanced capabilities on your shop floor\\nCritical Manufacturing MES ensures a modular, yet fully integrated management of shop-floor resources.\\xa0\\xa0The 30+ product capabilities are fully interoperable and provide you with real-time visibility and control across global manufacturing operations:\\nTIP: Click on the Solution Map for more information.\\nBatch, Lot & Unit Tracking\\nIt only takes one single unit of bad product to ruin your brand reputation. Critical Manufacturing’s material model supports all types of batch, lot and unit configurations and enables virtually any material logical and physical operation of a discrete manufacturing process.\\nKey features include:\\nBenefits for your operations:\\nTraceability & Genealogy\\nCapturing the real-time state of every material and managing their life cycle in the plant is absolutely essential for shop-floor operations. For traceability purposes, the history of every material must be captured in the system.\\nIn the Critical Manufacturing MES system, a material is a generic hierarchical object with a rich life cycle supported by a very comprehensive set of transactions to track all materials in the shop floor while recording their complete history and genealogy, accessible through real-time queries or via customizable historical reports.\\nKey features include:\\nBenefits for your operations:\\nFor more features and benefits, consult the Data Sheet.\\nRouting and Dispatching\\nIn any manufacturing environment, it’s necessary to define in a controlled manner the different process flows that can be assigned to products and materials. These process flows can also include rework flows to recover material from certain problems.\\nDispatching provides a mechanism to define flexible material sorting rules for a step or for a resource, so that the operator knows what is the next material to be processed, or the next resource for a material. Dispatching works based on services. Resources provide services and materials require services at certain processing contexts (Step, Flow, Product, etc.). When there is a match between the service required by the material and the service provided by the resource, the material can be dispatched and processed in that resource.\\nKey features include:\\nBenefits for your operations:\\nFor more features and benefits, consult the Data Sheet.\\nData Collection & Acquisition\\nThe large amount of data generated during manufacturing operations is very valuable and required for the purposes of quality, traceability, monitoring, control, root-cause analysis, and continuous improvement. As an integral part of the Manufacturing Execution System (MES), all collected data is highly contextualized, thus enabling all sorts of correlations.\\nData Collection module of Critical Manufacturing MES allows predefined data collections to take place at certain processing points (e.g.: at Track-In or Track-Out) using context resolution. It also supports the capture of data at any time using an ad-hoc data collection. Data can be collected manually or automatically via automation.\\nKey features include:\\nBenefits for your operations:\\nFor more features and benefits, consult the Data Sheet.\\nOperator Training & Certification\\nThe work force is a critical aspect of any manufacturing operation. It’s necessary to organize employees into teams, manage their work calendar, track their skills, and ensure that only qualified personnel perform certain tasks.\\nThe Labor Management module of Critical Manufacturing MES provides features to support for the management of employees, the tracking of certifications and qualifications, shift planning as well as it includes a shift logbook to pass information between shifts.\\nKey features include:\\nBenefits for your operations:\\nFor more features and benefits, consult the Data Sheet.\\nBill-of-Materials (BOM)\\nCritical Manufacturing MES has complete Bill-of-Materials (BOM) support, with lists of raw materials, subassemblies, intermediate assemblies, components, sub-components, parts and respective quantities that are required to manufacture one unit of a final product through assembly. These BOMs can be imported and integrated directly from ERP or PLM software, or created manually in the system by loading a product BOM file. The system also allows visualization of the imported BOM, as well as the complete Product tree.\\nKey Features\\nBenefits for your operations:\\nFor more features and benefits, consult the Data Sheet.\\nConsumables Management\\nModern Consumable tracking can lead to shorter wait periods in production environments and improve stock level efficiency and maintenance thresholds. Critical Manufacturing MES allows knowing and tracking accurate levels of consumables in any process step and resource through consumable feeds in system resources, automatic inventory management with the flexibility of customized picking rules and detailed movements between warehouses, ensuring that the right material, configuration, process and documents are used in manufacturing.\\nKey features include:\\nFor more features and benefits, consult the Data Sheet.\\nTooling Management\\nAdequate tool management is vital to the efficiency of a production process, by increasing visibility over the state and usage of tools in the shop floor. Ensuring the proper tool is used in the right process step for the target product helps to increase quality.\\nCritical Manufacturing MES tracks the usage, lifecycle and maintenance of multiple tooling solutions required for manufacturing operations, storing the information as part of the material history that can be used in reports and ensures full traceability. The process routing definition can\\xa0 associate the appropriate tool to the right process step and verify current usage, with built-in processes for calibration verification.\\nKey features include:\\nFor more features and benefits, consult the Data Sheet.\\nWork Instructions / SOPs\\nManufacturing operations that need to be performed manually can be quite complex. Checklists provide step-by-step guidance to the user throughout the execution of complex operations.\\nCritical Manufacturing MES provides fully integrated work instruction visualization through the use of electronic checklists that provide step-by-step guidance to the user throughout the execution of complex operations. With a variety of documents which are relevant for manufacturing, including technical sheets, drawings, and standard operating procedures (SOPs) or work instructions, it is essential to perform easy factory-wide information and document management through importing and versioning external files, CAD schematics and product specification documents that can be assigned to specific tasks in the production process.\\nKey features include:\\nBenefits for your operations:\\nFor more features and benefits, consult the Data Sheet.\\nLabel & Document Printing\\nDuring the manufacturing process it may be necessary to print labels (e.g.: Material Identification) and documents (e.g.: Certificate of Conformance) that must follow specific designs containing labels, pictures and barcodes, and must be printed in specific printers. The labels contain static and dynamic information, such as the lot number, quantity, and manufacturing date.\\nThe Advanced Layout and Printing is an integrated module of Critical Manufacturing MES that provides the ability to design and print labels, lot travelers and other types of documents.\\nKey features include:\\nBenefits for your operations:\\nFor more features and benefits, consult the Data Sheet.\\nTask Management\\nThe manufacturing environment is very fluid and complex. A lot of issues may require attention and action. In order to keep track of all the open issues as well as to have clear visibility about the ownership and progress of the different actions, it’s necessary to have a mechanism to track and manage factory-wide tasks.\\nKey features include:\\nBenefits for your operations:\\nFor more features and benefits, consult the Data Sheet.\\nOrder Management\\nSometimes, it may be necessary to break-down a large order in multiple lots or batches and to have the flexibility to assign\\xa0 and re-assign lots to different orders. Order Management provides the functionality to track the different customer orders and to fulfill the orders either by assigning work-in-process material, finished goods, or creating new materials for the order.\\nKey Features\\nBenefits for your operations:\\nFor more features and benefits, consult the Data Sheet.\\nNPI\\nThe New Product Introduction module supports the loading, association and visualization of an ECAD file of type ODB++ with a Product. It also supports the loading of a Product BOM file with the component information. The CAD file can be used later to create work instructions as part of a checklist.\\nKey features include:\\nBenefits for your operations:\\nFor more features and benefits, consult the Data Sheet.\\nRecipe Management\\nAs manufacturing relies on increasingly more complex equipment, the management of the recipes that the equipment will use for a certain process becomes increasingly important. It’s a basic requirement to ensure that the right recipe with the right parameters is used for the right process. A centralized electronic recipe management system is required for process automation and in some cases, some parameters need to be resolved dynamically on-the-fly to implement feed-forward and feedback mechanisms. Information about use recipes is a traceability requirement and an enabler for\\xa0 performance and efficiency improvement.\\nCritical Manufacturing MES provides capabilities to manage, download, upload, resolve and instantiate recipes. The Recipe object model is based on the SEMI E139 standard and the module is pre-integrated with Connect IoT for equipment automation.\\nKey features include:\\nBenefits for your operations:\\nFor more features and benefits, consult the Data Sheet.\\nExperiment Management\\nThe Experiment Management module is fully integrated with the MES to support both the design of the experiment (DoE) and the execution of the experiment. The execution of experiments is completely transparent to both the users and the\\xa0 applications that support manufacturing operations. Experiment lots are tracked and processed in the same way as any other lot and the system automatically enforces the set variations.\\nKey Features\\nBenefits for your operations:\\nFor more features and benefits, consult the Data Sheet.\\nEquipment Tracking\\nEquipment is becoming increasingly complex and expensive. The equipment health, performance and utilization are key factors in the operations efficiency and in the company profitability, being the Overall Equipment Effectiveness (OEE) a closely monitored indicator.\\nIncreasing levels of manufacturing sophistication and automation require that the Manufacturing Execution System (MES) keeps track of both the equipment master data information, equipment state and equipment history. Critical Manufacturing MES Resource Tracking provides a hierarchical object model to model virtually any type of equipment and it provides all the functionality required for managing and tracking resources.\\nKey features include:\\nBenefits for your operations:\\nFor more features and benefits, consult the Data Sheet.\\nMaintenance Management\\nThe Maintenance Management module supports the creation of maintenance plans and their associated activities. Critical Manufacturing MES ensures that maintenance plans are followed as defined and keeps track of the maintenance history for every equipment. As a fully integrated module, the usage counters are automatically increased as material is processed and prevents equipment from being used if maintenance is due. The system also checks the certifications of maintenance technicians and updates the inventory of spare parts as they are consumed. The Scheduling module is alerted of planned maintenance down times to ensure that equipment is unavailable.\\nKey features include:\\nBenefits for your operations:\\nFor more features and benefits, consult the Data Sheet.\\nCalibration\\nWhether you need manual tools or automatic scales or dispensing tools, equipment calibration should be automatic and built into the process, so that quality remains at the forefront of the process definition. The definition and capture of measurement instruments, ensuring that they are calibrated and that they cover the required range and have the required precision, is paramount to the efficiency and quality desired in a modern production process.\\nCritical Manufacturing MES ensures the calibration and verification of instruments is met by seamlessly integrating this process within the regular production process steps, with procedures in place to avoid using gauges or instruments with expired calibration status while maintaining traceability for the entire process.\\nKey features include:\\nBenefits for your operations:\\nFor more features and benefits, consult the Data Sheet.\\nStatistical Process Control (SPC)\\nStatistical Process Control (SPC) is a method of applying statistical methods and techniques in order to monitor and control a process. Using historical process data, it’s possible to check whether a certain process is under control and it’s possible to calculate the respective control limits, that is the Voice of the Process (VoP).\\nStatistical Process Control (SPC) is a pre-integrated module that is used to monitor the stability and quality of a certain process as well as to identify and flag problems as early as possible. When a problem is identified, it’s possible to trigger an action such as sending an email, putting the lot on hold, or putting the equipment down. It’s also possible to open an exception protocol workflow to correct the situation.\\nKey features include:\\nBenefits for your operations:\\nFor more features and benefits, consult the Data Sheet.\\nCorrective & Preventive Action (CAPA)\\nDuring manufacturing operations, it’s inevitable that some problems, exceptions, and deviations will occur. It’s important to address these problems quickly and systematically. Some problems will fall within defined patterns and pre-defined workflows can guide the operators on their resolution, such as SPC violations which can be addressed by Out-of-Control Action Plans (OCAPs). Other problems need a more thorough analysis to identity the root cause and to take actions to address the root cause in order to prevent these problems from occurring again, such as Corrective and Preventive Actions (CAPA).\\nThe Exception Management module provides the capability to define and execute workflows to guide the user in capturing problems and issues and responding to them. Being an integrated module,\\xa0 exceptions can be triggered automatically by system under certain conditions (e.g.: SPC violation).\\nKey features include:\\nBenefits for your operations:\\nFor more features and benefits, consult the Data Sheet.\\nNon-Conformance Reporting & Dispositions\\nThe Exception Management module of Critical Manufacturing MES provides the capability to define and execute workflows to guide the user in capturing problems and issues and responding to them. Being an integrated module, exceptions can be triggered automatically by system under certain conditions (e.g.: SPC violation). An exception can also be opened manually at any time in response to a certain condition.\\nKey features include:\\nBenefits for your operations:\\nFor more features and benefits, consult the Data Sheet.\\nSampling Based Inspection / AQL\\nIn many cases it’s not practical to inspect or measure every single lot; and even in an inspection or metrology step, it’s not practical to inspect or measure every single unit of a lot.\\nCritical Manufacturing MES provides the capability to implement sampling strategies by pre-defining 1) which materials must go through an inspection or metrology step based on time or counters; and 2) which sub-materials to be measured at an inspection or metrology step. Once the sampling strategy is defined, the system will execute and enforce it automatically.\\nKey features include:\\nBenefits for your operations:\\nFor more features and benefits, consult the Data Sheet.\\nDocument Management\\nThere are many documents which are relevant for manufacturing, including technical sheets, drawings, and standard operating procedures (SOPs) or work instructions. Documents need to be created, approved, published, and distributed, and most importantly, the right documents need to be presented to the user at the right time. When a new version is set effective, it’s important to ensure that the new version supersedes previous one. Also, for regulatory compliance, it may be necessary to ensure that the operators read and sign-off on new document versions.\\nKey features include:\\nBenefits for your operations:\\nFor more features and benefits, consult the Data Sheet.\\nElectronic Signatures\\nA thorough process of control and auditability is vital for quality assurance and for the enforcement of quality standards within an organization. Critical Manufacturing MES provides user-defined approval workflows with reviewers defined for each step, enforcing those workflows based on object and type, with complete control over the approval process displayed in real time to any of the stakeholders. Providing email notifications and customized pages for pending approval verifications while maintaining change-controlled objects with approval workflows, the complete digital process meets all your regulatory and compliance needs while maintaining a historical record of all approvals and electronic signatures.\\nBenefits for your operations:\\nFor more features and benefits, consult the Data Sheet.\\nAdvanced Planning & Scheduling\\nThe Advanced Planning & Scheduling module generates resource processing sequences that optimize some key performance indicators, such as equipment utilization or order fulfillment. While dispatching provides only a local optimization considering the current state at a Step or a Resource, Scheduling considers multiple Steps and multiple Resources, as well as a more comprehensive set of constraints and a bigger time horizon. If required, the system is also capable of sequencing personnel or tools. Being a fully integrated module, it has access to all the master data as well as the current WIP and equipment state, and it can also ensure that the generated resource processing sequences are followed.\\nKey features include:\\nBenefits for your operations:\\nFor more features and benefits, consult the Data Sheet.\\nMaterials Management\\nCritical Manufacturing MES supports the business processes related with requesting materials, fulfilling those requests and moving material between locations.\\nThe Material Logistics module specifies different material supply paths for different storage areas and production lines. The system supports three types of lifecycles: 1) starting with a Transfer Requirement, releasing it into a Pick List, and then transporting it with a Transfer Order; 2) create a Transfer Order for a Transfer Requirement; or 3) simply create a Transfer Order.\\nThe Material Logistics module performs automatic replenishment based on user defined reorder points and target inventory levels and also provides the capability to take periodic inventories.\\nKey features include:\\nBenefits for your operations:\\nFor more features and benefits, consult the Data Sheet.\\nCosting\\nHaving accurate and up-to-date manufacturing cost data provides very valuable information.\\xa0 Management can use this information to take on cost reduction initiatives or to adjust pricing structures. Costing module of Critical Manufacturing MES provides a mechanism to define the different cost structures, based on time, usage, labor, and materials and then to absorb those costs in real time.\\nKey features include:\\nBenefits for your operations:\\nFor more features and benefits, consult the Data Sheet.\\nDashboards\\nManufacturing operations generate a lot of data. Being able to present the most important data in real time and in a visual way that is clear and easy to understand helps the different stakeholders to understand the current situation and quickly visualize any problem that requires attention. A Dashboard is a highly visual mechanism to display different types of data. Dashboards are created by combining and configuring different widgets such as reports, queries, resource lists, charts.\\nThe system comes off-the-shelf with the following set of widgets:\\n• Augmented Reality • Barcode Identification • BI Card • Browser • Button • Column View • Component Widget • Data Series • Data Value • Date and Time • EDC Chart • Entity\\xa0 Attachments • Entity Details • Entity History • Entity Info • Entity KPI • Entity List View • Entity Tiles • FabLIVE • Filter • Flex • Form • Grid • Keypad • Live Data • Query • Shift • Sliding Grid • SPC Chart • Tabs Widget • Text\\xa0• Tiles Matrix • Timeline Chart • Timer • Transfer Widget • Tree Map Chart • UI Page\\nKey features include:\\nBenefits for your operations:\\nFor more features and benefits, consult the Data Sheet.\\nReporting and Analytics\\nThe Critical Manufacturing Data & Analytics Framework provides a unified, integrated persistency, reporting and business intelligence platform that can be used for Critical Manufacturing data and other heterogeneous data sources. The capabilities of the Data & Analytics framework allow data to be integrated from any SQL Server, Microsoft Access, Oracle Databases, Excel, CSV, XML, Text files, SAP and other data sources.\\nKey features\\nOperational Data Store & Data Warehouse\\nThe Data Warehouse (DWH) provides a set of pre-aggregated and consolidated data to speed-up and facilitate different type of multi-dimensional analysis. The cubes provided by the Data Warehouse organize data (measures and indicators) across a set of predefined dimensions such as Facility, Area, Step, and Time.\\nKey features include:\\nBenefits for your operations:\\nFor more features and benefits, consult the Data Sheet.\\nAlarm Management\\nIn a manufacturing environment, there are many planned tasks and unplanned issues that require the user attention. Alarm Management provides a mechanism to send notifications about any event at any time to a user or to a group of users.\\nKey features include:\\nBenefits for your operations:\\nFor more features and benefits, consult the Data Sheet.\\nFactory Digital Twin\\nHaving real-time visibility of the state of the factory is quite important to quickly react to problems. Visual dashboards can provide easy to understand information in an intuitive way. fabLIVE allows the customer to design the real physical layout of the plant and then to monitor the equipment with instantaneous updates delivered using a publish/subscribe mechanism.\\nKey features include:\\nBenefits for your operations:\\nFor more features and benefits, consult the Data Sheet.\\nAugmented Reality\\nAugmented Reality enables any task relevant information available inside MES to be viewed over a live camera shot of the real product, process, line or facility area. For example, a maintenance technician can check the list of pending and upcoming maintenance orders at an equipment; or a quality engineer can check the history of a certain lot simply by pointing their mobile device.\\nKey Features\\nBenefits for your operations:\\nFor more features and benefits, consult the Data Sheet.\\nEquipment Integration\\nThere are many drivers for improving the degree of automation in manufacturing operations. Typically, there are three types of equipment in the shop floor that can be integrated: process equipment, metrology equipment and logistics equipment (automated material storage and retrieval equipment, transport equipment, such as Automatic Guide Vehicles (AGVs) and Autonomous Intelligent Vehicles (AIVs).\\nConnect IoT provides MES equipment integration for different type of communication interfaces. It is a distributed equipment integration module that can be used to connect virtually any equipment or device that provides some type of connectivity.\\nKey features include:\\nBenefits for your operations:\\nFor more features and benefits, consult the Data Sheet.\\nFactory Automation Workflow Management\\nFor companies that want to deploy high automation, it’s necessary to have a system that both listens to factory events, and coordinates and orchestrates the different systems and applications to respond to that factory event. Factory Automation is a factory-level workflow engine to coordinate different systems and applications in order to achieve high-automation. Factory Automation module supports the definition of workflows and links the events to workflows. It also supports hierarchical job structures as well as long running jobs which have their state and context persisted in the database. Factory Automation also has the capability to perform error handling to recover from a variety of possible problems.\\nKey Features\\nBenefits for your operations:\\nFor more features and benefits, consult the Data Sheet.\\nEnterprise Integration (ERP, PLM, ...)\\nMost manufacturers use a Product Lifecycle Management (PLM) for product design and development; and an Enterprise Resource Planning (ERP) system for the high-level management of the company. It’s also common organizations have in place other type of manufacturing relevant applications in place, such as document management and training systems. The Enterprise Integration module provides a robust, bi-directional asynchronous communication mechanism based on a message queued and a queue processor.\\nMES provides bi-directional integration to enterprise applications to support both rapid tactical shifts and strategic business goals. Benefits include:\\nBenefits for your operations:\\nFor more features and benefits, consult the Data Sheet.\\nBatch, Lot & Unit Tracking\\nIt only takes one single unit of bad product to ruin your brand reputation. Critical Manufacturing’s material model supports all types of batch, lot and unit configurations and enables virtually any material logical and physical operation of a discrete manufacturing process.\\nKey features include:\\nBenefits for your operations:\\nTraceability & Genealogy\\nCapturing the real-time state of every material and managing their life cycle in the plant is absolutely essential for shop-floor operations. For traceability purposes, the history of every material must be captured in the system.\\nIn the Critical Manufacturing MES system, a material is a generic hierarchical object with a rich life cycle supported by a very comprehensive set of transactions to track all materials in the shop floor while recording their complete history and genealogy, accessible through real-time queries or via customizable historical reports.\\nKey features include:\\nBenefits for your operations:\\nFor more features and benefits, consult the Data Sheet.\\nRouting and Dispatching\\nIn any manufacturing environment, it’s necessary to define in a controlled manner the different process flows that can be assigned to products and materials. These process flows can also include rework flows to recover material from certain problems.\\nDispatching provides a mechanism to define flexible material sorting rules for a step or for a resource, so that the operator knows what is the next material to be processed, or the next resource for a material. Dispatching works based on services. Resources provide services and materials require services at certain processing contexts (Step, Flow, Product, etc.). When there is a match between the service required by the material and the service provided by the resource, the material can be dispatched and processed in that resource.\\nKey features include:\\nBenefits for your operations:\\nFor more features and benefits, consult the Data Sheet.\\nData Collection & Acquisition\\nThe large amount of data generated during manufacturing operations is very valuable and required for the purposes of quality, traceability, monitoring, control, root-cause analysis, and continuous improvement. As an integral part of the Manufacturing Execution System (MES), all collected data is highly contextualized, thus enabling all sorts of correlations.\\nData Collection module of Critical Manufacturing MES allows predefined data collections to take place at certain processing points (e.g.: at Track-In or Track-Out) using context resolution. It also supports the capture of data at any time using an ad-hoc data collection. Data can be collected manually or automatically via automation.\\nKey features include:\\nBenefits for your operations:\\nFor more features and benefits, consult the Data Sheet.\\nOperator Training & Certification\\nThe work force is a critical aspect of any manufacturing operation. It’s necessary to organize employees into teams, manage their work calendar, track their skills, and ensure that only qualified personnel perform certain tasks.\\nThe Labor Management module of Critical Manufacturing MES provides features to support for the management of employees, the tracking of certifications and qualifications, shift planning as well as it includes a shift logbook to pass information between shifts.\\nKey features include:\\nBenefits for your operations:\\nFor more features and benefits, consult the Data Sheet.\\nBill-of-Materials (BOM)\\nCritical Manufacturing MES has complete Bill-of-Materials (BOM) support, with lists of raw materials, subassemblies, intermediate assemblies, components, sub-components, parts and respective quantities that are required to manufacture one unit of a final product through assembly. These BOMs can be imported and integrated directly from ERP or PLM software, or created manually in the system by loading a product BOM file. The system also allows visualization of the imported BOM, as well as the complete Product tree.\\nKey Features\\nBenefits for your operations:\\nFor more features and benefits, consult the Data Sheet.\\nConsumables Management\\nModern Consumable tracking can lead to shorter wait periods in production environments and improve stock level efficiency and maintenance thresholds. Critical Manufacturing MES allows knowing and tracking accurate levels of consumables in any process step and resource through consumable feeds in system resources, automatic inventory management with the flexibility of customized picking rules and detailed movements between warehouses, ensuring that the right material, configuration, process and documents are used in manufacturing.\\nKey features include:\\nFor more features and benefits, consult the Data Sheet.\\nTooling Management\\nAdequate tool management is vital to the efficiency of a production process, by increasing visibility over the state and usage of tools in the shop floor. Ensuring the proper tool is used in the right process step for the target product helps to increase quality.\\nCritical Manufacturing MES tracks the usage, lifecycle and maintenance of multiple tooling solutions required for manufacturing operations, storing the information as part of the material history that can be used in reports and ensures full traceability. The process routing definition can\\xa0 associate the appropriate tool to the right process step and verify current usage, with built-in processes for calibration verification.\\nKey features include:\\nFor more features and benefits, consult the Data Sheet.\\nWork Instructions / SOPs\\nManufacturing operations that need to be performed manually can be quite complex. Checklists provide step-by-step guidance to the user throughout the execution of complex operations.\\nCritical Manufacturing MES provides fully integrated work instruction visualization through the use of electronic checklists that provide step-by-step guidance to the user throughout the execution of complex operations. With a variety of documents which are relevant for manufacturing, including technical sheets, drawings, and standard operating procedures (SOPs) or work instructions, it is essential to perform easy factory-wide information and document management through importing and versioning external files, CAD schematics and product specification documents that can be assigned to specific tasks in the production process.\\nKey features include:\\nBenefits for your operations:\\nFor more features and benefits, consult the Data Sheet.\\nLabel & Document Printing\\nDuring the manufacturing process it may be necessary to print labels (e.g.: Material Identification) and documents (e.g.: Certificate of Conformance) that must follow specific designs containing labels, pictures and barcodes, and must be printed in specific printers. The labels contain static and dynamic information, such as the lot number, quantity, and manufacturing date.\\nThe Advanced Layout and Printing is an integrated module of Critical Manufacturing MES that provides the ability to design and print labels, lot travelers and other types of documents.\\nKey features include:\\nBenefits for your operations:\\nFor more features and benefits, consult the Data Sheet.\\nTask Management\\nThe manufacturing environment is very fluid and complex. A lot of issues may require attention and action. In order to keep track of all the open issues as well as to have clear visibility about the ownership and progress of the different actions, it’s necessary to have a mechanism to track and manage factory-wide tasks.\\nKey features include:\\nBenefits for your operations:\\nFor more features and benefits, consult the Data Sheet.\\nOrder Management\\nSometimes, it may be necessary to break-down a large order in multiple lots or batches and to have the flexibility to assign\\xa0 and re-assign lots to different orders. Order Management provides the functionality to track the different customer orders and to fulfill the orders either by assigning work-in-process material, finished goods, or creating new materials for the order.\\nKey Features\\nBenefits for your operations:\\nFor more features and benefits, consult the Data Sheet.\\nNPI\\nThe New Product Introduction module supports the loading, association and visualization of an ECAD file of type ODB++ with a Product. It also supports the loading of a Product BOM file with the component information. The CAD file can be used later to create work instructions as part of a checklist.\\nKey features include:\\nBenefits for your operations:\\nFor more features and benefits, consult the Data Sheet.\\nRecipe Management\\nAs manufacturing relies on increasingly more complex equipment, the management of the recipes that the equipment will use for a certain process becomes increasingly important. It’s a basic requirement to ensure that the right recipe with the right parameters is used for the right process. A centralized electronic recipe management system is required for process automation and in some cases, some parameters need to be resolved dynamically on-the-fly to implement feed-forward and feedback mechanisms. Information about use recipes is a traceability requirement and an enabler for\\xa0 performance and efficiency improvement.\\nCritical Manufacturing MES provides capabilities to manage, download, upload, resolve and instantiate recipes. The Recipe object model is based on the SEMI E139 standard and the module is pre-integrated with Connect IoT for equipment automation.\\nKey features include:\\nBenefits for your operations:\\nFor more features and benefits, consult the Data Sheet.\\nExperiment Management\\nThe Experiment Management module is fully integrated with the MES to support both the design of the experiment (DoE) and the execution of the experiment. The execution of experiments is completely transparent to both the users and the\\xa0 applications that support manufacturing operations. Experiment lots are tracked and processed in the same way as any other lot and the system automatically enforces the set variations.\\nKey Features\\nBenefits for your operations:\\nFor more features and benefits, consult the Data Sheet.\\nEquipment Tracking\\nEquipment is becoming increasingly complex and expensive. The equipment health, performance and utilization are key factors in the operations efficiency and in the company profitability, being the Overall Equipment Effectiveness (OEE) a closely monitored indicator.\\nIncreasing levels of manufacturing sophistication and automation require that the Manufacturing Execution System (MES) keeps track of both the equipment master data information, equipment state and equipment history. Critical Manufacturing MES Resource Tracking provides a hierarchical object model to model virtually any type of equipment and it provides all the functionality required for managing and tracking resources.\\nKey features include:\\nBenefits for your operations:\\nFor more features and benefits, consult the Data Sheet.\\nMaintenance Management\\nThe Maintenance Management module supports the creation of maintenance plans and their associated activities. Critical Manufacturing MES ensures that maintenance plans are followed as defined and keeps track of the maintenance history for every equipment. As a fully integrated module, the usage counters are automatically increased as material is processed and prevents equipment from being used if maintenance is due. The system also checks the certifications of maintenance technicians and updates the inventory of spare parts as they are consumed. The Scheduling module is alerted of planned maintenance down times to ensure that equipment is unavailable.\\nKey features include:\\nBenefits for your operations:\\nFor more features and benefits, consult the Data Sheet.\\nCalibration\\nWhether you need manual tools or automatic scales or dispensing tools, equipment calibration should be automatic and built into the process, so that quality remains at the forefront of the process definition. The definition and capture of measurement instruments, ensuring that they are calibrated and that they cover the required range and have the required precision, is paramount to the efficiency and quality desired in a modern production process.\\nCritical Manufacturing MES ensures the calibration and verification of instruments is met by seamlessly integrating this process within the regular production process steps, with procedures in place to avoid using gauges or instruments with expired calibration status while maintaining traceability for the entire process.\\nKey features include:\\nBenefits for your operations:\\nFor more features and benefits, consult the Data Sheet.\\nStatistical Process Control (SPC)\\nStatistical Process Control (SPC) is a method of applying statistical methods and techniques in order to monitor and control a process. Using historical process data, it’s possible to check whether a certain process is under control and it’s possible to calculate the respective control limits, that is the Voice of the Process (VoP).\\nStatistical Process Control (SPC) is a pre-integrated module that is used to monitor the stability and quality of a certain process as well as to identify and flag problems as early as possible. When a problem is identified, it’s possible to trigger an action such as sending an email, putting the lot on hold, or putting the equipment down. It’s also possible to open an exception protocol workflow to correct the situation.\\nKey features include:\\nBenefits for your operations:\\nFor more features and benefits, consult the Data Sheet.\\nCorrective & Preventive Action (CAPA)\\nDuring manufacturing operations, it’s inevitable that some problems, exceptions, and deviations will occur. It’s important to address these problems quickly and systematically. Some problems will fall within defined patterns and pre-defined workflows can guide the operators on their resolution, such as SPC violations which can be addressed by Out-of-Control Action Plans (OCAPs). Other problems need a more thorough analysis to identity the root cause and to take actions to address the root cause in order to prevent these problems from occurring again, such as Corrective and Preventive Actions (CAPA).\\nThe Exception Management module provides the capability to define and execute workflows to guide the user in capturing problems and issues and responding to them. Being an integrated module,\\xa0 exceptions can be triggered automatically by system under certain conditions (e.g.: SPC violation).\\nKey features include:\\nBenefits for your operations:\\nFor more features and benefits, consult the Data Sheet.\\nNon-Conformance Reporting & Dispositions\\nThe Exception Management module of Critical Manufacturing MES provides the capability to define and execute workflows to guide the user in capturing problems and issues and responding to them. Being an integrated module, exceptions can be triggered automatically by system under certain conditions (e.g.: SPC violation). An exception can also be opened manually at any time in response to a certain condition.\\nKey features include:\\nBenefits for your operations:\\nFor more features and benefits, consult the Data Sheet.\\nSampling Based Inspection / AQL\\nIn many cases it’s not practical to inspect or measure every single lot; and even in an inspection or metrology step, it’s not practical to inspect or measure every single unit of a lot.\\nCritical Manufacturing MES provides the capability to implement sampling strategies by pre-defining 1) which materials must go through an inspection or metrology step based on time or counters; and 2) which sub-materials to be measured at an inspection or metrology step. Once the sampling strategy is defined, the system will execute and enforce it automatically.\\nKey features include:\\nBenefits for your operations:\\nFor more features and benefits, consult the Data Sheet.\\nDocument Management\\nThere are many documents which are relevant for manufacturing, including technical sheets, drawings, and standard operating procedures (SOPs) or work instructions. Documents need to be created, approved, published, and distributed, and most importantly, the right documents need to be presented to the user at the right time. When a new version is set effective, it’s important to ensure that the new version supersedes previous one. Also, for regulatory compliance, it may be necessary to ensure that the operators read and sign-off on new document versions.\\nKey features include:\\nBenefits for your operations:\\nFor more features and benefits, consult the Data Sheet.\\nElectronic Signatures\\nA thorough process of control and auditability is vital for quality assurance and for the enforcement of quality standards within an organization. Critical Manufacturing MES provides user-defined approval workflows with reviewers defined for each step, enforcing those workflows based on object and type, with complete control over the approval process displayed in real time to any of the stakeholders. Providing email notifications and customized pages for pending approval verifications while maintaining change-controlled objects with approval workflows, the complete digital process meets all your regulatory and compliance needs while maintaining a historical record of all approvals and electronic signatures.\\nBenefits for your operations:\\nFor more features and benefits, consult the Data Sheet.\\nAdvanced Planning & Scheduling\\nThe Advanced Planning & Scheduling module generates resource processing sequences that optimize some key performance indicators, such as equipment utilization or order fulfillment. While dispatching provides only a local optimization considering the current state at a Step or a Resource, Scheduling considers multiple Steps and multiple Resources, as well as a more comprehensive set of constraints and a bigger time horizon. If required, the system is also capable of sequencing personnel or tools. Being a fully integrated module, it has access to all the master data as well as the current WIP and equipment state, and it can also ensure that the generated resource processing sequences are followed.\\nKey features include:\\nBenefits for your operations:\\nFor more features and benefits, consult the Data Sheet.\\nMaterials Management\\nCritical Manufacturing MES supports the business processes related with requesting materials, fulfilling those requests and moving material between locations.\\nThe Material Logistics module specifies different material supply paths for different storage areas and production lines. The system supports three types of lifecycles: 1) starting with a Transfer Requirement, releasing it into a Pick List, and then transporting it with a Transfer Order; 2) create a Transfer Order for a Transfer Requirement; or 3) simply create a Transfer Order.\\nThe Material Logistics module performs automatic replenishment based on user defined reorder points and target inventory levels and also provides the capability to take periodic inventories.\\nKey features include:\\nBenefits for your operations:\\nFor more features and benefits, consult the Data Sheet.\\nCosting\\nHaving accurate and up-to-date manufacturing cost data provides very valuable information.\\xa0 Management can use this information to take on cost reduction initiatives or to adjust pricing structures. Costing module of Critical Manufacturing MES provides a mechanism to define the different cost structures, based on time, usage, labor, and materials and then to absorb those costs in real time.\\nKey features include:\\nBenefits for your operations:\\nFor more features and benefits, consult the Data Sheet.\\nDashboards\\nManufacturing operations generate a lot of data. Being able to present the most important data in real time and in a visual way that is clear and easy to understand helps the different stakeholders to understand the current situation and quickly visualize any problem that requires attention. A Dashboard is a highly visual mechanism to display different types of data. Dashboards are created by combining and configuring different widgets such as reports, queries, resource lists, charts.\\nThe system comes off-the-shelf with the following set of widgets:\\n• Augmented Reality • Barcode Identification • BI Card • Browser • Button • Column View • Component Widget • Data Series • Data Value • Date and Time • EDC Chart • Entity\\xa0 Attachments • Entity Details • Entity History • Entity Info • Entity KPI • Entity List View • Entity Tiles • FabLIVE • Filter • Flex • Form • Grid • Keypad • Live Data • Query • Shift • Sliding Grid • SPC Chart • Tabs Widget • Text\\xa0• Tiles Matrix • Timeline Chart • Timer • Transfer Widget • Tree Map Chart • UI Page\\nKey features include:\\nBenefits for your operations:\\nFor more features and benefits, consult the Data Sheet.\\nReporting and Analytics\\nThe Critical Manufacturing Data & Analytics Framework provides a unified, integrated persistency, reporting and business intelligence platform that can be used for Critical Manufacturing data and other heterogeneous data sources. The capabilities of the Data & Analytics framework allow data to be integrated from any SQL Server, Microsoft Access, Oracle Databases, Excel, CSV, XML, Text files, SAP and other data sources.\\nKey features\\nOperational Data Store & Data Warehouse\\nThe Data Warehouse (DWH) provides a set of pre-aggregated and consolidated data to speed-up and facilitate different type of multi-dimensional analysis. The cubes provided by the Data Warehouse organize data (measures and indicators) across a set of predefined dimensions such as Facility, Area, Step, and Time.\\nKey features include:\\nBenefits for your operations:\\nFor more features and benefits, consult the Data Sheet.\\nAlarm Management\\nIn a manufacturing environment, there are many planned tasks and unplanned issues that require the user attention. Alarm Management provides a mechanism to send notifications about any event at any time to a user or to a group of users.\\nKey features include:\\nBenefits for your operations:\\nFor more features and benefits, consult the Data Sheet.\\nFactory Digital Twin\\nHaving real-time visibility of the state of the factory is quite important to quickly react to problems. Visual dashboards can provide easy to understand information in an intuitive way. fabLIVE allows the customer to design the real physical layout of the plant and then to monitor the equipment with instantaneous updates delivered using a publish/subscribe mechanism.\\nKey features include:\\nBenefits for your operations:\\nFor more features and benefits, consult the Data Sheet.\\nAugmented Reality\\nAugmented Reality enables any task relevant information available inside MES to be viewed over a live camera shot of the real product, process, line or facility area. For example, a maintenance technician can check the list of pending and upcoming maintenance orders at an equipment; or a quality engineer can check the history of a certain lot simply by pointing their mobile device.\\nKey Features\\nBenefits for your operations:\\nFor more features and benefits, consult the Data Sheet.\\nEquipment Integration\\nThere are many drivers for improving the degree of automation in manufacturing operations. Typically, there are three types of equipment in the shop floor that can be integrated: process equipment, metrology equipment and logistics equipment (automated material storage and retrieval equipment, transport equipment, such as Automatic Guide Vehicles (AGVs) and Autonomous Intelligent Vehicles (AIVs).\\nConnect IoT provides MES equipment integration for different type of communication interfaces. It is a distributed equipment integration module that can be used to connect virtually any equipment or device that provides some type of connectivity.\\nKey features include:\\nBenefits for your operations:\\nFor more features and benefits, consult the Data Sheet.\\nFactory Automation Workflow Management\\nFor companies that want to deploy high automation, it’s necessary to have a system that both listens to factory events, and coordinates and orchestrates the different systems and applications to respond to that factory event. Factory Automation is a factory-level workflow engine to coordinate different systems and applications in order to achieve high-automation. Factory Automation module supports the definition of workflows and links the events to workflows. It also supports hierarchical job structures as well as long running jobs which have their state and context persisted in the database. Factory Automation also has the capability to perform error handling to recover from a variety of possible problems.\\nKey Features\\nBenefits for your operations:\\nFor more features and benefits, consult the Data Sheet.\\nEnterprise Integration (ERP, PLM, ...)\\nMost manufacturers use a Product Lifecycle Management (PLM) for product design and development; and an Enterprise Resource Planning (ERP) system for the high-level management of the company. It’s also common organizations have in place other type of manufacturing relevant applications in place, such as document management and training systems. The Enterprise Integration module provides a robust, bi-directional asynchronous communication mechanism based on a message queued and a queue processor.\\nMES provides bi-directional integration to enterprise applications to support both rapid tactical shifts and strategic business goals. Benefits include:\\nBenefits for your operations:\\nFor more features and benefits, consult the Data Sheet.\\nSee also:\\n\\nAdvanced Planning and Scheduling\\nBoost the efficiency of planning and scheduling activities. The APS module integrated with MES generate fast, accurate and efficient operations planning.\\nMaterial Logistics\\nEnable smarter manufacturing by reducing inefficiencies and managing all material-related business processes. MES maintains optimum material availability and flow to increase production velocity\\nTransform new manufacturing insights into action\\nIoT Data Platform is a complete, highly scalable solution that combines IoT, equipment and MES data processing and analytics capabilities with contextual intelligence from MES. It helps manufacturers generate transformative insights to improve performance, efficiency and innovation.\\nYou may also be interested in...\\nJoin the Manufacturing Data Revolution\\nSeize the advantages of Industry 4.0 and put data at the center of everything\\nIoT Data Platform\\nCritical Manufacturing introduces the first combined MES and IoT Data Platform\\nPath to the Autonomous Factory\\nData first! Digitalization is from the past, AI is the future\\nEnable unprecedented performance with the most complete and modern MES\\nModern MES solution for manufacturers of discrete products with special focus on the following industries: Semiconductor, Electronics and Medical Devices\\nManage advanced scenarios with the edge capabilities for innovation and efficiency\\nUpgrade process capability and manage capacity and quality, while driving down the cost\\nShift focus from managing compliance and risk to agility and product quality\\nAccelerate digital transformation across complex discrete industries\\nMinimize downtime, reduce communication efforts, and improve overall performance with a real-time virtual window into your shop floor, without having to be physically present. The possibilities are endless.\\nMinimize downtime, reduce communication efforts, and improve overall performance with a real-time virtual window into your shop floor, without having to be physically present. The possibilities are endless.\\nImprove Overall Equipment Effectiveness (OEE)\\nReal-time enterprise-wide visualization and monitoring is crucial for high tech industries. fabLIVE Digital Twin is a real-time virtual window into the shop floor, with interactive performance monitoring.\\nAlthough the benefits of MES for productivity and yield are well-documented, some manufacturers face financial or human resource constraints to implement a complete solution. fabLIVE can be used as a stepping stone approach that delivers high value by providing:\\nThe system supports an unlimited\\xa0 number of fabLIVE Digital Twins which are created with drag-and-drop technology by mapping factory objects, such as equipment and areas, to 3D shapes. fabLIVE Digital Twin can be used from within a system dashboard and display a wealth of up-to-date information about any selected object, such as the uptime, history or the overall equipment effectiveness (OEE) of a particular equipment.\\nfabLIVE Digital Twin\\nHave real-time visibility over the entire factory floor\\nfabLIVE Digital Twin\\nQuickly track and monitor production equipment\\nfabLIVE Digital Twin\\nLink the physical layout with informative dashboards\\nMake it real with MES-based Digital Twin\\nUsers can increase the value of fabLIVE Digital Twin with additional modules, including:\\nStandard Configurations\\nMaster Data Integration\\nVisual Equipment Monitoring\\nIntegrated fabLIVE Viewer\\nUse OEE reports or other important production ratios by direct association with visual objects, providing clear understanding of the shop-floor from a bird’s eye view.\\nFactory layout can be based on an existing layout file – upload the layout and sketch over the equipment and areas, associating them to MES data.\\nReal-time display of equipment information, with machine integration providing a clear picture of the current productive status.\\nSee the entire Production Facility or Area from within the MES, with no external plugin or additional software required.\\nYou may also be interested in...\\nDigital Twin to Improve Manufacturing Operations\\nHow the Manufacturing Digital Twin can open a new window into plant operations\\nIoT Data Platform\\nCritical Manufacturing introduces the first combined MES and IoT Data Platform\\nIIoT has a “Thing” for MES\\nLearn why IoT platforms won’t replace MES for Industry 4.0.\\nEnable unprecedented performance with the most comprehensive and modern MES\\nModern MES solution for manufacturers of discrete products with special focus on the following industries: Semiconductor, Electronics and Medical DevicesManage advanced scenarios with the edge capabilities for innovation and efficiency\\nUpgrade process capability and manage capacity and quality, while driving down the cost\\nShift focus from managing compliance and risk to agility and product quality\\nAccelerate digital transformation across complex discrete industries\\nAchieve high performance in a highly competitive and rapidly changing manufacturing environment.\\nAchieve high performance in a highly competitive and rapidly changing manufacturing environment.\\nLeading edge technologies to succeed in Industry 4.0\\nInherently designed to accommodate the Industrial Internet of Things (IIoT), mobile devices, automation and sensors, Critical Manufacturing MES is truly an Industry 4.0 hub that provides manufacturers in demanding discrete industries a platform for digital transformation success.\\nAdvanced capabilities to drive digital transformation\\nCritical Manufacturing bridges the divide between IT/OT and transforms business outcomes with rapid and reliable access to the most detailed and timely manufacturing insights, with complete context and intelligence for confident decision making and profitable action.\\nHow does Critical Manufacturing MES differentiate?\\nWhether plants use traditional technologies or Industry 4.0 distributed intelligence, the Critical Manufacturing MES is ready to help manufacturers accelerate progress towards their Industry 4.0 goals.\\nIndustry 4.0 readiness\\nProgress to Industry 4.0 with the latest IIoT, Equipment Integration, Augmented Reality and Digital Twin technologies.\\nIntegration and automation\\nBenefit from one solution to integrate any standard and IoT interfaces with no code configuration and easy deployment.\\nBroadest functionality\\nThe most complete natively integrated functionality for IIoT, Scheduling, Quality, Efficiency, Analytics and Automation.\\nFlexibility and ease-of-use\\nUsers are in control with configurable interfaces and easy set up for process owners.\\nEnterprise standardization\\nWith Critical Manufacturing MES, customers can create and rapidly deploy a single baseline MES across multiple sites, enabling standardization, exchange and re-use of manufacturing information assets. Consisting of principles, guidelines, models, business rules, configurations and customizations that are applicable to the enterprise, each site maintains the flexibility to model the standard MES to their own specific business processes to respond quickly to changing business requirements.\\nExplore all capabilities\\nCritical Manufacturing MES is the most comprehensive, modular MES solution for complex, global manufacturers on the path to digital transformation.\\nSelect your speciality\\nWith increasing levels of intelligence built inside sensors, devices and equipment, the amount of data generated in a single day in a manufacturing plant can be staggering.\\nSemiconductor Manufacturing\\nLeverage the latest advanced MES capabilities for innovation and efficiency.\\nElectronics Assembly\\nMoving beyond fragmented point solutions to gain real-time operations visibility and efficiency and drive down costs.\\nMedical Device Manufacturing\\nEmbrace digitalization - shift focus from managing compliance and risk to agility and product quality.\\nDiscrete Manufacturing\\nIncrease operational efficiency and innovation at scale, across your global manufacturing networks.\\nYou may also be interested in...\\nAn Integrated Approach to Traceability for a Fresh Start\\nAT&S MES project for new substrate facility.\\nIndustry 4.0 Platform: MES, IIoT, Analytics or All of the Above?\\nLearn why only IIoT and MES combined will allow manufacturers to succeed in I4.0\\nWhy Strategy Matters to Industry 4.0 Success\\nHow can Manufacturers take realistic steps to pursue Industry 4.0?\\nEnable unprecedented performance with the most modern MES\\nModern MES solution for manufacturers of discrete products with special focus on the following industries: Semiconductor, Electronics and Medical Devices\\nManage advanced scenarios with the edge capabilities for innovation and efficiency\\nUpgrade process capability and manage capacity and quality, while driving down the cost\\nShift focus from managing compliance and risk to agility and product quality\\nAccelerate digital transformation across complex discrete industries\\nMake better data-driven decisions and respond faster to shop floor events to seize competitive advantage.\\nMake better data-driven decisions and respond faster to shop floor events to seize competitive advantage.\\nTransform manufacturing data intoactionable insights\\nThe Critical Manufacturing IoT Data Platform is a complete, highly scalable solution that combines IoT, equipment integration, data processing and analytics with contextual intelligence from MES to help manufacturers generate transformative insights to improve performance, efficiency and innovation.\\nVisualize, report and interact with data\\nHow does the IoT Data Platform differentiate?\\nThe Critical Manufacturing IoT Data Platform provides complete coverage and native integration with MES and equipment, using the Connect IoT module. The added value of using MES to enrich and contextualize data, to close output loops, ensures that the data pipeline is unified, standardized and comprehensive.\\nData contextualization\\nAnalyze data with their full context, enabling faster decisions and timely problem solving.\\nMES data enrichment\\nEnrich IoT data received from the shop floor equipment with MES contextual data for deeper insights.\\nLower cost of data storage\\nReduce the cost of hardware for processing, storage and solution deployment on-premises, in the cloud or in hybrid mode.\\nReduced IT costs\\nAvoid high IT costs by using open and universal technology for developers, Apache Kafka™ streaming data platform and Apache Spark™ unified analytics engine.\\nDrive results with a complete end-to-end IoT Data Platform\\nThe Critical Manufacturing IoT Data Platform is a complete data management solution that comes with all the building blocks to ingest, store, process, transform and analyze data in real-time. The application is modular, open and extensible, allowing new functional blocks to be added and seamlessly plugged-in to the application.\\nEdge Processing\\nData Ingestion\\nData Brokering\\nData Processing\\nServing and Output\\nAddress a wide range of manufacturing use cases\\nThe Critical Manufacturing IoT Data Platform, combined with MES, is an end-to-end solution for processing manufacturing data, providing support for a wide range of valuable use-case scenarios that are available immediately. Manufacturers can achieve quick wins with fast ROI and build upon results as more data becomes available. The possibilities are limitless.\\nStore sensor data\\nStore equipment and device data for traceability and analysis: augment equipment data with MES data for full contextualization; correlate two or more variables over a given period of time.\\nCorrelate variables and outcomes\\nUnderstand the effect and influence of different variables on a certain outcome (e.g.: yield, performance).\\nTrigger alerts\\nMonitor a set of parameters for specific conditions to automatically trigger alerts and actions (e.g. identify abnormal WIP build-up at a certain process step, put the lot on hold or put an equipment down).\\nCompare equipment performance\\nCompare the performance of different equipment across a series of indicators (OEE, MTTR, MTBF, Uptime, etc.).\\nPredict equipment failure\\nAnalyze conditional monitoring sensor data in real-time to determine the probability of failure or the remaining useful life of a given equipment.\\nAdjust equipment parameters\\nMonitor equipment parameters and adjust parameters on subsequent steps for the same material (feedforward) or on the same equipment for next materials (feedback).\\nYou may also be interested in...\\n8 Reasons Why Manufacturing IIoT Projects Fail\\nWhat are the common challenges with IIoT projects? Can you avoid them?\\nIoT Data Platform\\nCritical Manufacturing introduces the first combined MES and IoT Data Platform\\nMeeting the Manufacturing Data Management Challenge\\nLessons from Top Performers to improve on operational and business KPIs\\nAccelerate progress towards Industry 4.0\\nModern MES solution for manufacturers of discrete products with special focus on the following industries: Semiconductor, Electronics and Medical Devices\\nManage advanced scenarios with the edge capabilities for innovation and efficiency\\nUpgrade process capability and manage capacity and quality, while driving down the cost\\nShift focus from managing compliance and risk to agility and product quality\\nAccelerate digital transformation across complex discrete industries\\nModern MES architecture facilitates a faster and more efficient multi-site MES deployment program\\nModern MES architecture facilitates a faster and more efficient multi-site MES deployment program\\nReliably deploy and continuously improve your MES\\nCloud\\nPublic or private\\nOn-premise\\nsingle or multi-plants\\nHybrid models\\nCombination of cloud and on-premises\\nImplement MES across your global enterprise\\nMerges and acquisitions create a heterogeneous environment, composed of multiple plants, with hundreds of disparate software applications managed by different providers, and running on diverse infrastructures, requires a consistent strategy of continuous improvement and deployment of the MES components.\\nThe new Critical Manufacturing MES V9 architecture ensures that your plants stay on the current version of MES, easing enterprise roll-out with unique site-level configurations.\\nArchitecture for more resilient, responsive, and agile manufacturing\\nCritical Manufacturing MES V9 is split into separately deployable and scalable components running on containers, with the ability to run on different technologies and orchestration tools (such as Kubernetes). A DevOps portal allows the deployment of the entire solution, both for a new installation or an update, including separate apps, IIoT solutions, customization, and master data packages, from a central location into cloud, on-premises or hybrid infrastructures. The one-click deployment technology performs the entire install in minutes.\\nContainerization\\nContainer orchestration\\nDevOps Center\\nContainerization allows an application to be packaged in reusable images that can be executed on any supported container runtime, providing portability, increased security and easier deployments. Containerization technology also enables an abstraction of the underlying hardware infrastructure, which allows Critical Manufacturing MES to be deployed in a wide range of infrastructures, from on-premises to managed cloud environments.\\nRESULT: Scalable and lightweight solution running on different platforms, without modification or additional configuration.\\nOrchestration of containers is crucial for optimizing the performance of the software and the IT team that manages them. Container orchestrators deal with the complexity of applications that are composed of multiple components running as separate components, including shared resources, networking and storage. Container orchestrators are also responsible for managing application deployments, scaling and scheduling of containers across multiple physical nodes, ensuring optimal use of available resources. Critical Manufacturing MES can be deployed on Docker Swarm or Kubernetes.\\nRESULT: Containers running on distributed systems, resiliently, with scaling and failover in heterogeneous environments.\\nDevOps Center is Critical Manufacturing’s deployment portal, from where all system installations and upgrades can be performed. DevOps Center is integrated into Critical Manufacturing’s Customer Portal and allows centralized management of all MES instances, whether they are deployed in one or multiple data centers, in cloud or on-premises environments. Critical Manufacturing’s innovative remote deployment technology allows one-click deployment of a new MES instances in minutes, based on known configurations and templates.\\nDevOps Center is part of an integrated DevOps Ecosystem, composed by a set of technologies and tools that partners, customers and SI’s can use to develop, evolve and maintain solutions built on Critical Manufacturing Framework.\\nRESULT: Centralized management of installations with one-click deployment on cloud, on-prem or hybrid infrastructure\\nYou might also be interested in...\\nComplete guide on How to Master Manufacturing in Extreme Uncertainty\\nContainers, DevOps, continuous delivery strategies for MES and IT keys\\nMES Architecture for More Resilient, Responsive, and Agile Manufacturing\\nIn extreme uncertainty, manufacturers seek a way to be ready for anything.\\nCritical Manufacturing Collaborates with Global Powerhouse Red Hat to Support the Industrial Landscape\\n\\nEnable unprecedented performance with the most modern MES\\nModern MES solution for manufacturers of discrete products with special focus on the following industries: Semiconductor, Electronics and Medical DevicesManage advanced scenarios with the edge capabilities for innovation and efficiency\\nUpgrade process capability and manage capacity and quality, while driving down the cost\\nShift focus from managing compliance and risk to agility and product quality\\nAccelerate digital transformation across complex discrete industries\\nAPS offers significant benefits to improve on-time performance, increase equipment efficiency and empower the production planning department to quickly respond to any external variation on demand.\\nAPS offers significant benefits to improve on-time performance, increase equipment efficiency and empower the production planning department to quickly respond to any external variation on demand.\\nAPS gains agility with MES\\nCritical Manufacturing MES maintains the necessary master data for the shop floor execution as well as updated information about WIP and equipment, making it easy and seamless for Critical’s natively integrated APS to generate an accurate, updated schedule with no integration effort.\\nThe Critical Manufacturing Advanced Planning and Scheduling module generates a processing sequence for each equipment that optimizes one or more factory level KPIs (e.g. equipment utilization or fulfillment of due dates) while complying with multiple constraints such as work sch edules, resource availability, personnel certifications, material dependencies or delivery dates.\\nIt allows adaptive scheduling to set schedule updates to run automatically. And also, a multi-level order and material scheduling to automatically manage schedule priorities based on in-hand orders—even with multi-step, parallel processes.\\nMultiple schedule views\\nAccess all the master data, as well as the current WIP and equipment state.\\nBoost KPIs\\nOperations performance naturally becomes fully optimized.\\nAdvanced Planning and Scheduling capabilities\\nThe Advanced Planning and Scheduling (APS) integrated module boosts the efficiency of planning and scheduling activities.\\nAvoid duplicated data-entry\\nAnd the need to exchange information between systems.\\nReal-time data\\nAlways include up-to-date shop floor status in the schedule.\\nAll MES information considered\\nSuch as personnel certifications and planned equipment maintenance.\\nSeize the benefits of Advanced Planning and Scheduling\\nThe APS module integrated with MES generate fast, accurate and efficient operations planning.\\nEnd-to-end optimization\\nMulti-criteria factory-level optimization including minimal setups, cycle times and delivery delays, while maintaining maximum equipment utilization.\\nDecision support\\nEfficient problem solving, characterized by a very high number of material operations with multiple restrictions.\\nAccurate analysis\\nQuantitative evaluation of the quality of the solutions, according to different KPIs.\\nUp to date schedules\\nQuick generation and release of optimized production schedules.\\nCustomizable\\nAbility to perform manual adjustments to a schedule.\\nYou may also be interested in...\\n8 Reasons Why Manufacturing IIoT Projects Fail\\nWhat are the common challenges with IIoT projects? Can you avoid them?\\nA Guide to Manufacturing Data Analytics\\nUnlock hidden insights in your data and turn them into action\\nAn Integrated Approach to Traceability for a Fresh Start\\nAT&S MES project for new substrate facility.\\nAccelerate progress towards Industry 4.0\\nModern MES solution for manufacturers of discrete products with special focus on the following industries: Semiconductor, Electronics and Medical DevicesManage advanced scenarios with the edge capabilities for innovation and efficiency\\nUpgrade process capability and manage capacity and quality, while driving down the cost\\nShift focus from managing compliance and risk to agility and product quality\\nAccelerate digital transformation across complex discrete industries\\nHigh-tech manufacturers are continuously pushing to increase their levels of automation, with the ultimate goal of achieving ‘lights out’ integrated smart factories. Improve speed, availability, reliability while lowering costs.\\nHigh-tech manufacturers are continuously pushing to increase their levels of automation, with the ultimate goal of achieving ‘lights out’ integrated smart factories. Improve speed, availability, reliability while lowering costs.\\nAutomatically monitor and respond to factory events\\nTake your automation capabilities beyond a single line or equipment and push it to the factory level. Critical Manufacturing’s Factory Automation module supports high automation by monitoring all your factory events and orchestrating the right response in the form of a business workflow that coordinates different applications, systems and sub-systems.\\nAchieve full connectivity and integration\\nAdvanced automation for smarter and agile factories\\nThe Factory Automation module was designed to provide manufacturers with advanced automation. For example, supplying material automatically to a production line in order to prevent it from stopping due of missing consumables or processing materials.\\nTrigger the right responses\\nFactory Automation allows specific workflows to be triggered to appropriately handle events. The system automatically determines the next lot to be processed and triggers the transportation of that lot from its current location. At the same time, the system can also calculate and coordinate the next equipment step or destination of in-process or completed lot and guide an Autonomous Intelligent Vehicle (AIV).\\nRecover from errors\\nFactory Automation is a robust and resilient system that handles all possible error situations, one of the known difficulties in automation scenarios. Automate repetitive and error prone activities, troubleshoot events and jobs and confidently handle all possible errors ranging from time-outs to invalid responses handled by the module.\\nProgressively increase automation\\nFactory Automation accommodates fully automated and manual scenarios, as well as mixed solutions. The powerful and agile event-based factory-level workflow system automatically executes any type of short or long-running job, reacting to factory-level events to achieve the desired business outcome. Factories can progressively increase their level of automation as more automation equipment and capabilities become available.\\nLeverage technologies\\nBased on Connect IoT Technology, the Factory Automation module takes advantage of the extensibility, cross platform, cross architecture and low hardware footprint.\\nCapabilities of a highly automated and resilient factory\\nAs the future demands more customization, automation enables flexibility and efficiency. It can increase quality and boost output and productivity.\\nEvents automation\\nRegister all of your factory events.\\nCustom management\\nDesign your own business workflows in a graphical manner.\\nWorkflow library\\nCreate a library of reusable workflows and actions.\\nFlexible process\\nTrigger one or more workflows (short or long-running jobs) based on events.\\nInstant control\\nMonitor and administer events and jobs.\\nSeize the benefits of Factory Automation\\nManufacturing possibilities can be extended through the combination of predictive maintenance and enhanced communication capabilities as a way to improve processes and save resources.\\nAccelerate progress towards Industry 4.0\\nModern MES solution for manufacturers of discrete products with special focus on the following industries: Semiconductor, Electronics and Medical DevicesManage advanced scenarios with the edge capabilities for innovation and efficiency\\nUpgrade process capability and manage capacity and quality, while driving down the cost\\nShift focus from managing compliance and risk to agility and product quality\\nAccelerate digital transformation across complex discrete industries\\nMES quickly integrates your business processes into customized and sophisticated interfaces using innovative yet straightforward drag-and-drop technology.\\nMES quickly integrates your business processes into customized and sophisticated interfaces using innovative yet straightforward drag-and-drop technology.\\nComplex operations made easy\\nCritical Manufacturing MES allows manufacturers to use common devices, such as mobile phones or tablets to access the same functionalities once reserved for industrial workstations. By enabling the creation of customizable graphical user interfaces (GUIs), Critical Manufacturing MES is easier, faster and friendlier than any other MES on the market.\\nEnd users with minimum IT skills can create sophisticated dashboards using only drag-and-drop technology, leveraging a vast library of rich, visual controls. Based on simple configuration, any need to recompile or restart the application for GUI deployment or updates is removed.\\nIt has a Color Weakness Mode: one-time GUI configuration to increase accessibilty for workers needing accomodation for color vision or myopia issues.\\nConfigurable mobile ready GUI\\nCustom GUIs, which are responsive web applications, can automatically adjust to a device screen size and orientation, also allowing different layouts to be applied automatically, depending on available screen space.\\n\\nGUIs can be used to view information in the form of dashboards or interact with MES to perform any action in the system. Each role or workstation can have its own set of GUIs that are optimized for the specific task of the user.\\nCapture, process and display easily\\nDeliver an immediate response to any situation and monitor the entire manufacturing process, anytime, anywhere.\\nDIY: no coding needed\\nWith no need for complicated coding, the system offers total flexibility, allowing users to build an interface using drag-and-drop technology. Interfaces can be created with common MES elements, with domain behavior that can be set, organized and customized.\\nAccommodates all users and functions\\nMES covers various functions, ranging from operations, quality, maintenance, logistics to engineering. Critical Manufacturing MES allows companies to create GUIs for facilities, areas, equipment or role-based GUIs, which are flexible and adaptable to the specific tasks of the user.\\nSimple and intuitive, yet informative and powerful\\nCritical Manufacturing MES empowers users with friendly and easy to use software, maintaining functionality and simplicity akin to consumer apps, rather than traditional, bulkier and outdated manufacturing interface systems.\\nProvides real-time visualizations\\nPersonalized views, with real-time status of the shop floor, can be generated quickly to solve immediate shop floor process or maintenance needs.\\nExtensible: multi-platforms and multi form-size devices usage\\nBased on modern web technologies, Critical Manufacturing MES is flexible and easy to use. The technologies used work seamlessly across different devices and operating systems – from fixed operator panels or PCs to mobile devices, such as tablets or phones.\\nBased on open standards\\nCritical Manufacturing MES follows W3C and ECMA standards which allow the creation of rich interactive experiences, powered by cutting edge technology available on any device.\\nSee also:\\n\\nfabLIVE factory Digital Twin\\nMinimize downtime, reduce communication efforts, and improve overall performance with a real-time virtual window into your shop floor, without having to be physically present. The possibilities are endless.\\nAugmented Reality\\nGet unlimited productivity and efficiency gains with Augmented Reality. Anything inside MES or available through a connection to MES can be viewed through a live camera image of the actual product, process, line, or installation area.\\nEnable unprecedented performance with the most complete and modern MES\\nModern MES solution for manufacturers of discrete products with special focus on the following industries: Semiconductor, Electronics and Medical DevicesManage advanced scenarios with the edge capabilities for innovation and efficiency\\nUpgrade process capability and manage capacity and quality, while driving down the cost\\nShift focus from managing compliance and risk to agility and product quality\\nAccelerate digital transformation across complex discrete industries\\nCritical Manufacturing MES is based on modern, stable and production-ready architectures. It delivers a comprehensive framework using the latest technologies, facilitating a more holistic approach to the complex manufacturing process.\\nCritical Manufacturing MES is based on modern, stable and production-ready architectures. It delivers a comprehensive framework using the latest technologies, facilitating a more holistic approach to the complex manufacturing process.\\nCritical Manufacturing framework\\nCritical Manufacturing MES is a modern Manufacturing Execution System built from the ground up on the leading enterprise architectures and technologies in order to provide the best availability, scalability, flexibility, extensibility and low cost of ownership to our customers.\\nMore powerful, reliable and faster than any other MES\\nThe design of the Critical Manufacturing application framework is based on the following pillars:\\nLow total cost of ownership (TCO)\\nState-of-the-art standard integrated components, with strong focus on simplicity and ease of use, deployment and maintenance.\\nAgility\\nOur flexible and extensible framework provides rich functionality, easy customization and powerful integration, which coupled with a comprehensive set of functional modules allows manufacturers to quickly deploy the system to keep pace with changing business requirements.\\nVersatility\\nA generic manufacturing object model and flexible, customer-defined business rules provide extended support to a wide range of manufacturing scenarios.\\nWorld class performance & Reliability\\nStandard, proven and cost effective hardware, working together with a powerful software architecture designed for high-availability, performance and scalability.\\nFlexible, scalable and extensible to all tiers\\nOur distributed application follows a three-tier architecture model that provides good partitioning, modularity and scalability vectors:\\nPresentation Tier\\nBusiness Services Tier\\nThe Data & Analytics Tier\\nDesigned for the creation of a rich, interactive user experience, web graphical user interfaces have been developed on a cross-browser, cross-platform base for Rich Internet Applications (RIA). The user interface is a modern multi-device and multi-platform GUI based on AngularJS (by Google) and TypeScript (by Microsoft). It provides a platform for the future of the Critical Manufacturing MES GUI and can also be extended and customized for other enterprise applications.\\nCustomization:\\nThe business tier implements and exposes all functionalities as services to the outside world. The interface layer supports Web Services among other protocols.\\nThe business workflows are the orchestration layer used to provide higher-level functionality through the coordination of business objects.\\nThe business objects follow a hierarchical object model, which facilitates the development of objects with a common behavior.\\nCustomization:\\nDesigned for the automatic creation of powerful integrated capabilities such as data warehousing, reporting and data-mining. It provides reporting and business intelligence optimized for the runtime system, offloading data as soon as possible to the Operational Data Store (ODS) and to the Data Warehouse (DWH).\\nCustomization:\\n\\nMicrosoft technology stack for enhancedsecurity, scalability, and flexibility\\nCritical Manufacturing MES is built on the Microsoft technology stack with the Presentation Tier based on the popular HTML5 standard, providing support for a variety of browsers, platforms and devices.\\nThe usage of Microsoft core technology ensures the highest interoperability and a single point of contact for software related issues. Critical Manufacturing MES uses the following technologies:\\nPresentation tier\\nHTML5 and Angular JS running on an HTML5 compatible browser\\nBusiness services tier\\nMicrosoft .Net Core running on Microsoft Windows Server or Linux (when using Docker or Docker Swarm)\\nData & analytics tier\\nMicrosoft SQL Server running on Microsoft Windows Server\\nComplete Manufacturing integration\\nCritical Manufacturing MES open and extensible architecture provides seamless integration with any application, system or equipment that provides any type of interface:\\nSystem integrations\\nThe Enterprise Integration module provides bi-directional integration and buffered communication with enterprise level applications such as: Enterprise Resource Planning (ERP) systems (e.g. SAP or Oracle E-Business) and Product Lifecycle Management (PLM) systems (e.g. Oracle Agile).\\nConnectivity control\\nThe Connect IoT module provides connectivity and control for a variety of process, metrology and logistical equipment with native support for SECS/GEM, OPC-UA, OPC-DA, Files (CSV, XML) and Databases.\\nAPI interface\\nApplications in general can be integrated by calling the respective APIs. Critical Manufacturing exposes all of its services as REST APIs.\\nData analytics\\nData can be exported or imported using the ETL capabilities of SQL Server Integration Services (SSIS).\\nHardware reliability, scalability and performance\\nCritical Manufacturing’s distributed architecture allows the complete application to be deployed on a single computer (for non-productive deployments) or in distributed application farms to ensure high-availability and load balancing. The application hardware can be scaled-up and scaled-out as required, according to customer specific needs.\\nTraditional deployment architecture\\nThe system can be deployed in several variations depending on the load and scalability requirements, starting from single server.\\nHardware can be scaled according to the manufacturing needs, at any time.\\nThe Application Server farms scale up as well as scale out via Network Load Balancing.\\nDatabase can be configured in high-availability mode either through fail-over clustering or mirroring.\\nContainer-based deployment architecture\\nCritical Manufacturing can be deployed using containers, which provide solid gains in terms of configuration and usability by taking advantage of a mature containerization architecture, such as that supplied by the Docker Engine or Kubernetes.\\nContainer orchestrators abstract the underlying hardware infrastructure, allowing the application to be deployed across multiple physical hosts. This provides almost limitless horizontal scalability as another worker node can be launched and joined to the cluster to accommodate extra load on a particular installation.\\nEnable unprecedented performance with the most modern MES\\nModern MES solution for manufacturers of discrete products with special focus on the following industries: Semiconductor, Electronics and Medical DevicesManage advanced scenarios with the edge capabilities for innovation and efficiency\\nUpgrade process capability and manage capacity and quality, while driving down the cost\\nShift focus from managing compliance and risk to agility and product quality\\nAccelerate digital transformation across complex discrete industries\\nA company’s success is dependent on their ability to efficiently control material flow across their manufacturing facilities.\\nA company’s success is dependent on their ability to efficiently control material flow across their manufacturing facilities.\\nIntegrated warehouse management forjust-in-time manufacturing\\nTo manufacture high quality products on-time for customers, it is essential that raw materials are managed in a cost effective manner to ensure that the right materials are available, in the right quantities, at the right time.\\nManage the Material Logistics Lifecycle\\nManage key business processes related to requesting materials, fulfilling those requests and moving the materials between locations.\\nMaintain perfect inventories and just-in-time production\\nIncrease efficiency and avoid material shortages by automatically replenishing materials based on user defined reorder points and target inventory levels.\\nMaterial Logistics capabilities\\nEnable smarter manufacturing by reducing inefficiencies and managing all material-related business processes.\\nMaterial flow\\nDefine material flows between storage areas and production lines.\\nLifecycle management\\nManage the material request lifecycle.\\nPicking list\\nAutomatically generate pick lists to fulfill material requests.\\nRoute optimization\\nComply with user defined picking strategies (e.g.: FIFO, Expiration Date) and picking sequences to optimize picking routes.\\nTraceability\\nManage the material movement lifecycle, including the optional tracking of transport resources.\\nInventory system\\nCreate periodic inventories.\\nSeize the benefits of Material Logistics\\nEvery time an item moves, there is an opportunity for error. MES maintains optimum material availability and flow to increase production velocity\\nVisibility and traceability\\nImprove visibility and traceability of material requests.\\nInventory with the right quantities\\nReduce excess inventory and raw materials scrap.\\nMaterials availability\\nReduce material shortages.\\nMaterial on-time\\nReduce material request fulfillment times.\\nCosts reduction\\nReduce overall material handling costs.\\nInventory accuracy\\nImprove inventory management and accuracy of information.\\nMaterials lifetime\\nManage material shelf life and expiration dates.\\nYou may also be interested in...\\nMaterials Management for SMT\\nHow to avoid line stops with efficient Materials Management\\nJoin the Manufacturing Data Revolution\\nSeize the advantages of Industry 4.0 and put data at the center of everything\\nIoT Data Platform\\nCritical Manufacturing introduces the first combined MES and IoT Data Platform\\nA Guide to Manufacturing Data Analytics\\nUnlock hidden insights in your data and turn them into action\\nEnable unprecedented performance with the most modern MES\\nModern MES solution for manufacturers of discrete products with special focus on the following industries: Semiconductor, Electronics and Medical DevicesManage advanced scenarios with the edge capabilities for innovation and efficiency\\nUpgrade process capability and manage capacity and quality, while driving down the cost\\nShift focus from managing compliance and risk to agility and product quality\\nAccelerate digital transformation across complex discrete industries\\nEnsure interoperability across people, machines and applications to ensure high performance and integrated solutions across your enterprise.\\nEnsure interoperability across people, machines and applications to ensure high performance and integrated solutions across your enterprise.\\nStrategic enterprise integration: faster reaction to market variations\\nMost manufacturers use a Product Lifecycle Management (PLM) for product design and development; and an Enterprise Resource Planning (ERP) system for the high-level management of the company. It’s also common organizations have in place other type of manufacturing relevant applications in place, such as document management and training systems. The Enterprise Integration module provides a robust, bi-directional asynchronous communication mechanism based on a message queued and a queue processor.\\nFunctional hierarchy of manufacturing systems (ANSI/ISA 95 standard)\\nEnterprise Integration capabilities\\nMES provides bi-directional integration to enterprise applications to support both rapid tactical shifts and strategic business goals. Benefits include:\\nMES vs ERP: where to draw a line?\\nThe link between an ERP system and a MES has been well established and their integration is now common place and more valuable than ever. Both are critical to manufacturing processes, however, there is still confusion in deciding which processes should be supervised by MES vs. ERP.\\n\\nMES is the best solution to handle complex production processes with multiple variations and a massive number of transactions. An ERP is generally designed to support a homogeneous process with business operating information.\\nPLM and MES integration\\nCommunication between MES and other applications like PLM can prove to be essential for perfect interoperability of the system infrastructure. It allows for continuous response to shifting demands by distributing the latest product designs and assembly methods to a more connected, efficient, and effective production value chain.\\nThere are direct connections from PLM to the shop floor, i.e. with work instructions, routing information, etc., and vice versa from the shop floor to PLM with non-conformance results.\\nThe direct link between PLM and MES has the potential to deliver agility through shop floor execution excellence.\\nEmbrace digital transformation\\nModern MES systems play a critical role in Industry 4.0, utilizing the Industrial Internet of Things (IIoT)-enabled production marketplace. However, not all MES are currently designed to accommodate the integration, decentralization, and new technologies of Industry 4.0.\\nYou may also be interested in...\\n8 Reasons Why Manufacturing IIoT Projects Fail\\nWhat are the common challenges with IIoT projects? Can you avoid them?\\nA Guide to Manufacturing Data Analytics\\nUnlock hidden insights in your data and turn them into action\\nAn Integrated Approach to Traceability for a Fresh Start\\nAT&S MES project for new substrate facility.\\nEnable unprecedented performance with the most comprehensive and modern MES\\nModern MES solution for manufacturers of discrete products with special focus on the following industries: Semiconductor, Electronics and Medical DevicesManage advanced scenarios with the edge capabilities for innovation and efficiency\\nUpgrade process capability and manage capacity and quality, while driving down the cost\\nShift focus from managing compliance and risk to agility and product quality\\nAccelerate digital transformation across complex discrete industries\\nCreate the Industry 4.0 shop floor marketplace with seamless connectivity and equipment integration.\\nCreate the Industry 4.0 shop floor marketplace with seamless connectivity and equipment integration.\\nComplete integration and automation with Connect IoT\\nConnect IoT dramatically reduces the time and effort to implement bi-directional equipment and device integration. It reaches across all types of devices to create the Industry 4.0 decentralized autonomous shop floor marketplace. It can integrate any equipment and any device that provides any type of interface. At the most basic level, Connect IoT can be used to simply collect data, but at higher levels of automation, Connect IoT can also control equipment and devices by sending the appropriate commands in response to events.\\nAccessible to all and extremely configurable\\nConnect IoT provides a single graphical view of driver configurations and automation workflows. Engineers can easily create and update complex logic with no code required, using intuitive drag-and-drop technology. The system also allows visual debugging without external simulators.\\nModular and extensible architecture\\nTake advantage of an extensive library of workflow blocks and communication protocols.\\nOut-of-the-box support\\nSECS/GEM, OPC-UA and OPC-DA, MQTT, Bluetooth Low Energy, Serial Communication (RS-232), TCP/IP Sockets, IPC-CFX, Fuji Nexim, OIB, CSV and RAW Files as well as SQL Server Databases.\\nReusable workflow blocks\\nNew communication protocols as well as new workflow blocks can be added to Connect IoT and re-used across all integrations.\\nLightweight, low footprint solution to connect the shop floor\\nConnect IoT delivers a central master data configuration system shared with the MES and a distributed execution engine - a lightweight, low footprint solution that can run in a variety of platforms and different hardware configurations. Connect IoT is the module responsible for all Edge processing capabilities and is seamlessly integrated with both the MES and the IoT Data Platform module.\\nConnect IoT dramatically reduces time and effort\\nThe powerful Connect IoT module makes Critical Manufacturing the only MES to include a fully integrated automation layer robust enough to handle the needs of Semiconductor, Electronics, PCBs, Medical Devices and other demanding industries.\\nConnect IoT allows manufacturers with old or new hardware to achieve the promise of Industry 4.0 and reach new levels of efficiency and productivity.\\nJoin the manufacturing data revolution\\nGain valuable factory insights with the first IoT Data Platform combined with MES by Critical Manufacturing.\\nWatch this on-demand webcast of the Critical Manufacturing MES V8 launch event and learn about all the new capabilities to connect, optimize, automate and leverage the full power of your data in your manufacturing operations.\\nModern MES solution for manufacturers of discrete products with special focus on the following industries: Semiconductor, Electronics and Medical DevicesManage advanced scenarios with the edge capabilities for innovation and efficiency\\nUpgrade process capability and manage capacity and quality, while driving down the cost\\nShift focus from managing compliance and risk to agility and product quality\\nAccelerate digital transformation across complex discrete industries\\nGet unlimited productivity and efficiency gains with Augmented Reality (AR). Anything inside MES or available through a connection to MES can be viewed through a live camera image of the actual product, process, line, or installation area.\\nGet unlimited productivity and efficiency gains with Augmented Reality (AR). Anything inside MES or available through a connection to MES can be viewed through a live camera image of the actual product, process, line, or installation area.\\nShop floor Augmented Realityand Industry 4.0\\nCritical Manufacturing Augmented Reality (AR) plays an important role in reaching Industry 4.0 goals by boosting the efficiency and reliability of your manufacturing operations. Augmented Reality enables employees to quickly view manufacturing relevant information to see exactly what needs to be done and how to complete the task, supporting even less experienced staff in flawless execution. By taking advantage of the camera available in any handheld device, real-time information from any MES object present in the system can be viewed over a live shot, whether it is an equipment, a lot, a device or a carrier.\\nMaterial information\\nInstantly view the current status and important contextual information for any batch, lot or device on the shop floor such as product, quantity or customer. Gain access to complete traceability records including process history, scrap information, process and inspection data and much more.\\nEquipment information\\nView important status information for any shop floor equipment such as current lot, current recipe and KPIs including OEE, MTTR, MTBF, Yield, Cycle Time, Maintenance Schedules, Maintenance Instructions, and much more.\\nSeize the benefits of Augmented Reality\\nAR presents unlimited opportunities to improve performance and efficiency of the production process with a simple, intuitive and easy to use interface:\\nTime savings\\nSimplify complex assembly operations by allowing workers constant access to detailed instructions and schematics to avoid errors and speed production.\\nImproved logistics\\nFree production workers from being tethered to fixed workstations and paper-based systems.\\nUp-to-date results\\nSpeed-up maintenance operations by allowing staff to see exactly what equipment needs servicing, or any potential issues. Technicians no longer need to access manuals and can also view operation times, date of last service and potential points of failure.\\nProcess efficiency\\nEnhance flexibility and accelerate skills development and cross training across the shop floor by allowing less skilled workers to perform more difficult jobs or a greater variety of tasks.\\nPaperless\\nReduce paper across the shop floor by presenting up-to-date clear digital information to production operators and supervisors.\\nSpeed up operations\\nStreamline materials, order and warehouse management and speed production by eliminating manual tasks associated with finding products, WIP and goods.\\nQuality satisfaction\\nImprove Quality Assurance by ensuring that the right parts and assembly steps are followed, while identifying issues faster and guiding their resolution with greater accuracy.\\nLow barrier to entry\\nWith Critical Manufacturing Augmented Reality, you can seize the benefits with minimal investment by using readily available devices such as smartphones and tablets. With little or no training required, workers can benefit from hands-free information and further improve efficiency.\\nYou may also be interested in...\\n8 Reasons Why Manufacturing IIoT Projects Fail\\nWhat are the common challenges with IIoT projects? Can you avoid them?\\nA Guide to Manufacturing Data Analytics\\nUnlock hidden insights in your data and turn them into action\\nDigital Twin and Augmented Reality\\nFrom ideal to real with MES\\nAccelerate progress towards Industry 4.0\\nModern MES solution for manufacturers of discrete products with special focus on the following industries: Semiconductor, Electronics and Medical DevicesManage advanced scenarios with the edge capabilities for innovation and efficiency\\nUpgrade process capability and manage capacity and quality, while driving down the cost\\nShift focus from managing compliance and risk to agility and product quality\\nAccelerate digital transformation across complex discrete industries\\nGiven today's environment with increasing global competition in terms of innovation, cost, time-to-market, and growing regulatory requirements, investing in an MES leaves no room for doubt.\\nGiven today's environment with increasing global competition in terms of innovation, cost, time-to-market, and growing regulatory requirements, investing in an MES leaves no room for doubt.\\nBuild a solid business case\\nWhile costs have decreased by several orders of magnitude since the first MES systems were implemented, the investment required can still be significant. Therefore, it’s necessary to build a strong business case to justify a project.\\n“This is the start of a new digital future for Elekta. The payback on the MES is already coming from cost savings, increased efficiency, and easier compliance. We also benefit from freeing up resources to enable our business to innovate more and greater agility to respond to our customers’ demands.”\\nWhat are the benefits?\\nMES benefits can be grouped in four categories: Quality, Productivity, Regulatory Compliance and Agility.\\n\\nAn improvement in performance indicators for each category will generate a benefit for which the value can be calculated with some degree of accuracy. All benefits are cumulative once the MES is implemented.\\nQuality\\nBenefits associated with yield and product performance improvement, which impact customer satisfaction.\\nProduction yield\\nCustomer product returns\\nProduct performance\\nOn time delivery\\nProductivity\\nBenefits associated with a higher output with the same resources, or the same output with less resources.\\nProduction volume\\nCycle time\\nWIP\\nCost\\nRegulatory compliance\\nBenefits associated with mandatory compliance to country and/or industry regulations (such as FDA CFR Part 21 for medical devices in the USA).\\nProduction volume\\nAgility\\nBenefits associated with the time and cost to introduce new or modified products and processes.\\nNew Product Introduction (NPI)\\nWhat are the costs?\\nFor a reliable ROI exercise, the cost of the solution and any new or expanded infrastructure needs to be taken into consideration. For MES, this includes costs of the hardware, software, project and people.\\nMES Hardware Depreciation\\nMES Software Licenses\\nMES Software Maintenance\\nMES Implementation Services\\nMES Project Implementation\\nRecurring cost (not incurred if hardware is not renewed at the end of depreciation period).\\nCost incurred one time, during the project implementation.\\nOther licensing models are also available based on a monthly/yearly fee or pay per usage model.\\nRecurring annual cost, after project implementation.\\nTypically includes access to new software versions and product support.\\nCost incurred one time, during the project implementation.\\nTypically, MES implementations evolve with a company’s growth, changing requirements and the need for additional capabilities over time. The majority of services and cost are associated with the MES introduction.\\nCost incurred one time, during the project implementation.\\nOperational MES utilization is part of the daily job of the internal employees.\\nThe availability of key users to support the MES Implementation project is essential.\\nSee also:\\n\\nComplete Modular Solution\\nModular, yet fully integrated management of shop-floor resources to accelerate progress towards Industry 4.0.\\nMES for Industry 4.0\\nAchieve high performance in a highly competitive and rapidly changing manufacturing environment.\\nAccelerate progress towards Industry 4.0\\nModern MES solution for manufacturers of discrete products with special focus on the following industries: Semiconductor, Electronics and Medical DevicesManage advanced scenarios with the edge capabilities for innovation and efficiency\\nUpgrade process capability and manage capacity and quality, while driving down the cost\\nShift focus from managing compliance and risk to agility and product quality\\nAccelerate digital transformation across complex discrete industries\\nManufacturers operating in high tech sectors must continuously embrace change or they will find themselves overtaken by more agile competitors.\\nManufacturers operating in high tech sectors must continuously embrace change or they will find themselves overtaken by more agile competitors.\\nMigrate to a modern MES to achieve leading edge capabilities\\nSystems controlling plant floor operations are changing rapidly to enable the smart factories of the future. Many manufacturers must now choose to invest in their current MES or migrate to a modern MES that will deliver the flexibility to adapt to changes in demand and keep pace with constantly changing requirements.\\nModern MES goes beyond the boundaries of manufacturing areas to accommodate new manufacturing models, the integration of business related processes such as maintenance, quality and engineering, with the ability to expand into the entire supply chain. The risk of maintaining outdated legacy MES is higher than the risk of changing to a new MES.\\nWhy replace MES\\nAn MES needs to allow a company to evolve, grow and innovate. Legacy MES systems that have been severely customized over time make upgrades, integration, backwards compatibility, and future-proofing much more difficult. A system that has highly flexible configuration and allows for extension of core functionality is needed.\\nThe reasons to switch range from supporting digital transformation initiatives and meeting customer needs to accommodate new technologies in production and products.\\nHow to migrate to new MES\\nThere is no single approach to migrating from a legacy MES to a new one and the strategy is driven primarily by three factors that must be weighted depending on the levels of interdependence, automation and downtime impact.\\nRisk\\nHow much risk and risk exposure is associated.\\nTime\\nHow much time the project takes from start-to-finish, including the pre-migration, migration and post-migration phases.\\nCost\\nHow much costs are involved in the planning and execution of the selected strategy, including opportunity costs (e.g.: downtime).\\nEach migration case is unique\\nThe environment and context conditions will determine the appropriate migration strategy, taking into consideration the risk, time and cost/effort.\\nBig bang\\nStrategy with highest risk, but the shortest migration time and lowest cost\\nRecommendation:\\nPaper or excel based MES\\nStand alone MES Application\\nPhased introduction\\nBalanced migration strategy\\nRecommendation:\\nIntegrated MES application, low automation\\nParallel systems\\nStrategy with the lowest risk, but the highest cost\\nRecommendation:\\nIntegrated MES application, high automation\\nSelect the optimal migration approach\\nYou may also be interested in...\\nGuide to Successful MES Replacement\\nMigration strategies explained\\nIoT Data Platform\\nCritical Manufacturing introduces the first combined MES and IoT Data Platform\\nSoftware Project Enriches Controls and Culture\\nModern MES for memory IC back-end: SMART Modular Technologies\\nAccelerate progress towards Industry 4.0\\nModern MES solution for manufacturers of discrete products with special focus on the following industries: Semiconductor, Electronics and Medical Devices\""
      ]
     },
     "execution_count": 371,
     "metadata": {},
     "output_type": "execute_result"
    }
   ],
   "source": [
    "links = [link for link in list(r.html.links) if 'mes-for-industry-4-0' in link]\n",
    "print(links)\n",
    "text = ''\n",
    "for link in links:\n",
    "    text += scrape_info_from(link)\n",
    "text"
   ]
  },
  {
   "cell_type": "code",
   "execution_count": 318,
   "id": "1c2dd689-e669-4a78-893d-0134981a94d8",
   "metadata": {
    "tags": []
   },
   "outputs": [],
   "source": [
    "s = HTMLSession().get('https://www.criticalmanufacturing.com/company/who-we-are/')\n",
    "divp = s.html.find('li, div, p')"
   ]
  },
  {
   "cell_type": "code",
   "execution_count": 353,
   "id": "321fb51b-de60-4094-b35b-0778e29fbdf6",
   "metadata": {
    "tags": []
   },
   "outputs": [],
   "source": [
    "text = ' '.join([d.text for d in divp])"
   ]
  },
  {
   "cell_type": "raw",
   "id": "5aa77702-475f-4c9d-a231-e49c133b9034",
   "metadata": {},
   "source": []
  }
 ],
 "metadata": {
  "kernelspec": {
   "display_name": "Python 3 (ipykernel)",
   "language": "python",
   "name": "python3"
  },
  "language_info": {
   "codemirror_mode": {
    "name": "ipython",
    "version": 3
   },
   "file_extension": ".py",
   "mimetype": "text/x-python",
   "name": "python",
   "nbconvert_exporter": "python",
   "pygments_lexer": "ipython3",
   "version": "3.10.5"
  }
 },
 "nbformat": 4,
 "nbformat_minor": 5
}
